{
 "cells": [
  {
   "cell_type": "markdown",
   "id": "d9b131fc-8041-482d-85f9-7eee70ac99d5",
   "metadata": {},
   "source": [
    "# Data Aggregation and Group Operations\n"
   ]
  },
  {
   "cell_type": "code",
   "execution_count": 1,
   "id": "cb4c999b-d148-4455-9f0a-1f88dbdc10cc",
   "metadata": {
    "ExecuteTime": {
     "end_time": "2024-02-21T03:08:50.781388500Z",
     "start_time": "2024-02-21T03:08:49.584717200Z"
    }
   },
   "outputs": [],
   "source": [
    "import pandas as pd\n",
    "import numpy as np"
   ]
  },
  {
   "cell_type": "code",
   "execution_count": 2,
   "id": "d634d70f-3c02-4633-8c29-5eb55f7a575e",
   "metadata": {
    "ExecuteTime": {
     "end_time": "2024-02-21T03:08:50.795387100Z",
     "start_time": "2024-02-21T03:08:50.782369600Z"
    }
   },
   "outputs": [],
   "source": [
    "data = {\n",
    "    'Дата': ['2023-01-01', '2023-01-05', '2023-02-10', '2023-02-15', '2023-03-03'],\n",
    "    'Сумма': [100, 200, 150, 300, 250],\n",
    "    'Тип': ['покупка', 'перевод', 'покупка', 'снятие', 'перевод'],\n",
    "    'Клиент': ['Клиент1', 'Клиент2', 'Клиент1', 'Клиент3', 'Клиент2']\n",
    "} \n"
   ]
  },
  {
   "cell_type": "code",
   "execution_count": 3,
   "id": "3e1b522f-f6ca-46c9-afd3-beb80debbdbc",
   "metadata": {
    "ExecuteTime": {
     "end_time": "2024-02-21T03:08:50.795387100Z",
     "start_time": "2024-02-21T03:08:50.787928Z"
    }
   },
   "outputs": [],
   "source": [
    "# Преобразуйте столбец 'Дата' в формат datetime\n",
    "# Группируйте данные по клиентам и суммируем сумму транзакций для каждого клиента\n",
    "# Группируйте данные по типу транзакции и вычисляем среднюю сумму транзакций\n",
    "# Добавьте столбец с месяцем транзакции\n",
    "# Группируйте данные по клиентам и месяцам и суммируем сумму транзакций для каждого клиента в каждом месяце\n",
    "# примините основные агрегирующие операции : \n",
    "# Посчитать общую сумму операций для каждого клиента.\n",
    "# Найти среднюю сумму операции для каждого типа операции.\n",
    "# Определить день с наибольшей суммой операций.\n",
    "# Рассчитать общую сумму операций за каждый месяц\n",
    "# Найти клиента с наибольшей общей суммой операций\n",
    "# Посчитать общее количество операций для каждого типа\n",
    "# Определить день с наибольшим количеством операций\n",
    "# Найти клиента, который совершил наибольшее количество операций"
   ]
  },
  {
   "cell_type": "code",
   "execution_count": 4,
   "id": "a00c2b75-7ad2-4a56-b137-592f501ca4f4",
   "metadata": {
    "ExecuteTime": {
     "end_time": "2024-02-21T03:08:50.828191Z",
     "start_time": "2024-02-21T03:08:50.794374900Z"
    }
   },
   "outputs": [
    {
     "name": "stdout",
     "output_type": "stream",
     "text": [
      "        Дата  Сумма      Тип   Клиент\n",
      "0 2023-01-01    100  покупка  Клиент1\n",
      "1 2023-01-05    200  перевод  Клиент2\n",
      "2 2023-02-10    150  покупка  Клиент1\n",
      "3 2023-02-15    300   снятие  Клиент3\n",
      "4 2023-03-03    250  перевод  Клиент2\n"
     ]
    }
   ],
   "source": [
    "# Преобразуйте столбец 'Дата' в формат datetime\n",
    "df = pd.DataFrame(data)\n",
    "\n",
    "df['Дата'] = pd.to_datetime(df['Дата'])\n",
    "\n",
    "print(df)"
   ]
  },
  {
   "cell_type": "code",
   "execution_count": 5,
   "outputs": [
    {
     "name": "stdout",
     "output_type": "stream",
     "text": [
      "    Клиент  Сумма\n",
      "0  Клиент1    250\n",
      "1  Клиент2    450\n",
      "2  Клиент3    300\n"
     ]
    }
   ],
   "source": [
    "#Группируйте данные по клиентам и суммируем сумму транзакций для каждого клиента\n",
    "df_grouped = df.groupby('Клиент')['Сумма'].sum().reset_index()\n",
    "\n",
    "print(df_grouped)"
   ],
   "metadata": {
    "collapsed": false,
    "ExecuteTime": {
     "end_time": "2024-02-21T03:08:50.847662300Z",
     "start_time": "2024-02-21T03:08:50.817569900Z"
    }
   },
   "id": "b6baf5a534333b6b"
  },
  {
   "cell_type": "code",
   "execution_count": 6,
   "outputs": [
    {
     "name": "stdout",
     "output_type": "stream",
     "text": [
      "Тип\n",
      "перевод    225.0\n",
      "покупка    125.0\n",
      "снятие     300.0\n",
      "Name: Сумма, dtype: float64\n"
     ]
    }
   ],
   "source": [
    "# Группируйте данные по типу транзакции и вычисляем среднюю сумму транзакций\n",
    "mean_transactions = df.groupby('Тип')['Сумма'].mean()\n",
    "\n",
    "print(mean_transactions)"
   ],
   "metadata": {
    "collapsed": false,
    "ExecuteTime": {
     "end_time": "2024-02-21T03:08:50.848645100Z",
     "start_time": "2024-02-21T03:08:50.835792400Z"
    }
   },
   "id": "87782770ec1213e0"
  },
  {
   "cell_type": "code",
   "execution_count": 7,
   "outputs": [
    {
     "name": "stdout",
     "output_type": "stream",
     "text": [
      "        Дата  Сумма      Тип   Клиент  Месяц\n",
      "0 2023-01-01    100  покупка  Клиент1      1\n",
      "1 2023-01-05    200  перевод  Клиент2      1\n",
      "2 2023-02-10    150  покупка  Клиент1      2\n",
      "3 2023-02-15    300   снятие  Клиент3      2\n",
      "4 2023-03-03    250  перевод  Клиент2      3\n"
     ]
    }
   ],
   "source": [
    "# Добавьте столбец с месяцем транзакции\n",
    "df['Месяц'] = df['Дата'].dt.month\n",
    "\n",
    "print(df)"
   ],
   "metadata": {
    "collapsed": false,
    "ExecuteTime": {
     "end_time": "2024-02-21T03:08:50.952377800Z",
     "start_time": "2024-02-21T03:08:50.844083700Z"
    }
   },
   "id": "e162ea61d2071d97"
  },
  {
   "cell_type": "code",
   "execution_count": 8,
   "outputs": [
    {
     "name": "stdout",
     "output_type": "stream",
     "text": [
      "    Клиент  Месяц  Сумма\n",
      "0  Клиент1      1    100\n",
      "1  Клиент1      2    150\n",
      "2  Клиент2      1    200\n",
      "3  Клиент2      3    250\n",
      "4  Клиент3      2    300\n"
     ]
    }
   ],
   "source": [
    "# Группируйте данные по клиентам и месяцам и суммируем сумму транзакций для каждого клиента в каждом месяце\n",
    "df_grouped = df.groupby(['Клиент', 'Месяц'])['Сумма'].sum().reset_index()\n",
    "\n",
    "print(df_grouped)"
   ],
   "metadata": {
    "collapsed": false,
    "ExecuteTime": {
     "end_time": "2024-02-21T03:08:50.953409100Z",
     "start_time": "2024-02-21T03:08:50.856082300Z"
    }
   },
   "id": "895781e44e5bed6b"
  },
  {
   "cell_type": "code",
   "execution_count": 9,
   "outputs": [
    {
     "name": "stdout",
     "output_type": "stream",
     "text": [
      "    Клиент  Месяц  sum   mean  min  max\n",
      "0  Клиент1      1  100  100.0  100  100\n",
      "1  Клиент1      2  150  150.0  150  150\n",
      "2  Клиент2      1  200  200.0  200  200\n",
      "3  Клиент2      3  250  250.0  250  250\n",
      "4  Клиент3      2  300  300.0  300  300\n"
     ]
    }
   ],
   "source": [
    "df_grouped = df.groupby(['Клиент', 'Месяц'])['Сумма'].agg(['sum', 'mean', 'min', 'max']).reset_index()\n",
    "\n",
    "print(df_grouped)"
   ],
   "metadata": {
    "collapsed": false,
    "ExecuteTime": {
     "end_time": "2024-02-21T03:08:50.954440300Z",
     "start_time": "2024-02-21T03:08:50.869638200Z"
    }
   },
   "id": "defe1c2f9b9a7c99"
  },
  {
   "cell_type": "code",
   "execution_count": 10,
   "outputs": [
    {
     "name": "stdout",
     "output_type": "stream",
     "text": [
      "    Клиент  Месяц  sum   mean  min  max\n",
      "0  Клиент1      1  100  100.0  100  100\n",
      "1  Клиент1      2  150  150.0  150  150\n",
      "2  Клиент2      1  200  200.0  200  200\n",
      "3  Клиент2      3  250  250.0  250  250\n",
      "4  Клиент3      2  300  300.0  300  300\n"
     ]
    }
   ],
   "source": [
    "# примините основные агрегирующие операции : \n",
    "df_grouped = df.groupby(['Клиент', 'Месяц'])['Сумма'].agg(['sum', 'mean', 'min', 'max']).reset_index()\n",
    "\n",
    "print(df_grouped)"
   ],
   "metadata": {
    "collapsed": false,
    "ExecuteTime": {
     "end_time": "2024-02-21T03:08:50.955986700Z",
     "start_time": "2024-02-21T03:08:50.884757300Z"
    }
   },
   "id": "e9420e13d3e30647"
  },
  {
   "cell_type": "code",
   "execution_count": 11,
   "outputs": [
    {
     "name": "stdout",
     "output_type": "stream",
     "text": [
      "Клиент\n",
      "Клиент1    250\n",
      "Клиент2    450\n",
      "Клиент3    300\n",
      "Name: Сумма, dtype: int64\n"
     ]
    }
   ],
   "source": [
    "# Посчитать общую сумму операций для каждого клиента.\n",
    "total_operations = df.groupby('Клиент')['Сумма'].sum()\n",
    "\n",
    "print(total_operations)"
   ],
   "metadata": {
    "collapsed": false,
    "ExecuteTime": {
     "end_time": "2024-02-21T03:08:50.956493Z",
     "start_time": "2024-02-21T03:08:50.897352800Z"
    }
   },
   "id": "2157a3c5220f0881"
  },
  {
   "cell_type": "code",
   "execution_count": 12,
   "outputs": [
    {
     "name": "stdout",
     "output_type": "stream",
     "text": [
      "Тип\n",
      "перевод    225.0\n",
      "покупка    125.0\n",
      "снятие     300.0\n",
      "Name: Сумма, dtype: float64\n"
     ]
    }
   ],
   "source": [
    "# Найти среднюю сумму операции для каждого типа операции.\n",
    "average_transaction_amount = df.groupby('Тип')['Сумма'].mean()\n",
    "\n",
    "print(average_transaction_amount)"
   ],
   "metadata": {
    "collapsed": false,
    "ExecuteTime": {
     "end_time": "2024-02-21T03:08:50.957664500Z",
     "start_time": "2024-02-21T03:08:50.905450700Z"
    }
   },
   "id": "27cbc12b88bc1350"
  },
  {
   "cell_type": "code",
   "execution_count": 13,
   "outputs": [
    {
     "name": "stdout",
     "output_type": "stream",
     "text": [
      "День с наибольшей суммой операций: 2023-02-15 00:00:00\n"
     ]
    }
   ],
   "source": [
    "# Определить день с наибольшей суммой операций.\n",
    "total_transactions_per_day = df.groupby('Дата')['Сумма'].sum()\n",
    "day_with_max_transactions = total_transactions_per_day.idxmax()\n",
    "\n",
    "print(\"День с наибольшей суммой операций:\", day_with_max_transactions)"
   ],
   "metadata": {
    "collapsed": false,
    "ExecuteTime": {
     "end_time": "2024-02-21T03:08:50.961877900Z",
     "start_time": "2024-02-21T03:08:50.913194700Z"
    }
   },
   "id": "dd0e8ccf0ce915ae"
  },
  {
   "cell_type": "code",
   "execution_count": 14,
   "outputs": [
    {
     "name": "stdout",
     "output_type": "stream",
     "text": [
      "Месяц\n",
      "1    300\n",
      "2    450\n",
      "3    250\n",
      "Name: Сумма, dtype: int64\n"
     ]
    }
   ],
   "source": [
    "# Рассчитать общую сумму операций за каждый месяц\n",
    "total_transactions_per_month = df.groupby('Месяц')['Сумма'].sum()\n",
    "\n",
    "print(total_transactions_per_month)"
   ],
   "metadata": {
    "collapsed": false,
    "ExecuteTime": {
     "end_time": "2024-02-21T03:08:50.962979800Z",
     "start_time": "2024-02-21T03:08:50.923426300Z"
    }
   },
   "id": "21af3023186258cb"
  },
  {
   "cell_type": "code",
   "execution_count": 15,
   "outputs": [
    {
     "name": "stdout",
     "output_type": "stream",
     "text": [
      "Клиент с наибольшей общей суммой операций: Клиент2\n"
     ]
    }
   ],
   "source": [
    "# Найти клиента с наибольшей общей суммой операций\n",
    "total_transactions_per_client = df.groupby('Клиент')['Сумма'].sum()\n",
    "client_with_max_total_transactions = total_transactions_per_client.idxmax()\n",
    "\n",
    "print(\"Клиент с наибольшей общей суммой операций:\", client_with_max_total_transactions)"
   ],
   "metadata": {
    "collapsed": false,
    "ExecuteTime": {
     "end_time": "2024-02-21T03:08:50.964001800Z",
     "start_time": "2024-02-21T03:08:50.931670800Z"
    }
   },
   "id": "f967303c07f3fe1a"
  },
  {
   "cell_type": "code",
   "execution_count": 16,
   "outputs": [
    {
     "name": "stdout",
     "output_type": "stream",
     "text": [
      "Тип\n",
      "перевод    2\n",
      "покупка    2\n",
      "снятие     1\n",
      "dtype: int64\n"
     ]
    }
   ],
   "source": [
    "# Группируем данные по типу операции и считаем количество операций для каждого типа\n",
    "total_operations_per_type = df.groupby('Тип').size()\n",
    "\n",
    "print(total_operations_per_type)"
   ],
   "metadata": {
    "collapsed": false,
    "ExecuteTime": {
     "end_time": "2024-02-21T03:08:50.965065800Z",
     "start_time": "2024-02-21T03:08:50.938398800Z"
    }
   },
   "id": "ca31a6e04f3c8637"
  },
  {
   "cell_type": "code",
   "execution_count": 17,
   "outputs": [
    {
     "name": "stdout",
     "output_type": "stream",
     "text": [
      "День с наибольшим количеством операций: 2023-01-01 00:00:00\n"
     ]
    }
   ],
   "source": [
    "# Определить день с наибольшим количеством операций\n",
    "total_operations_per_day = df.groupby('Дата').size()\n",
    "\n",
    "day_with_max_operations = total_operations_per_day.idxmax()\n",
    "\n",
    "print(\"День с наибольшим количеством операций:\", day_with_max_operations)"
   ],
   "metadata": {
    "collapsed": false,
    "ExecuteTime": {
     "end_time": "2024-02-21T03:08:50.965065800Z",
     "start_time": "2024-02-21T03:08:50.945799200Z"
    }
   },
   "id": "73c1821f4bfa469d"
  },
  {
   "cell_type": "code",
   "execution_count": 18,
   "outputs": [
    {
     "name": "stdout",
     "output_type": "stream",
     "text": [
      "Клиент с наибольшим количеством операций: Клиент1\n"
     ]
    }
   ],
   "source": [
    "#Найти клиента, который совершил наибольшее количество операций\n",
    "total_operations_per_client = df.groupby('Клиент').size()\n",
    "\n",
    "client_with_max_operations = total_operations_per_client.idxmax()\n",
    "\n",
    "print(\"Клиент с наибольшим количеством операций:\", client_with_max_operations)"
   ],
   "metadata": {
    "collapsed": false,
    "ExecuteTime": {
     "end_time": "2024-02-21T03:08:51.165570Z",
     "start_time": "2024-02-21T03:08:50.953409100Z"
    }
   },
   "id": "babf4498d63ff817"
  }
 ],
 "metadata": {
  "kernelspec": {
   "display_name": "Python 3 (ipykernel)",
   "language": "python",
   "name": "python3"
  },
  "language_info": {
   "codemirror_mode": {
    "name": "ipython",
    "version": 3
   },
   "file_extension": ".py",
   "mimetype": "text/x-python",
   "name": "python",
   "nbconvert_exporter": "python",
   "pygments_lexer": "ipython3",
   "version": "3.11.5"
  }
 },
 "nbformat": 4,
 "nbformat_minor": 5
}
