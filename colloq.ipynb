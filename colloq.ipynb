{
 "cells": [
  {
   "cell_type": "code",
   "execution_count": 1,
   "id": "c6a5f301-a0ca-47bd-a08c-81248cb8b4cb",
   "metadata": {
    "ExecuteTime": {
     "end_time": "2024-04-13T06:08:00.095269800Z",
     "start_time": "2024-04-13T06:07:58.920940300Z"
    }
   },
   "outputs": [],
   "source": [
    "# Импорт необходимых библиотек\n",
    "import pandas as pd\n",
    "import matplotlib.pyplot as plt"
   ]
  },
  {
   "cell_type": "code",
   "execution_count": 2,
   "id": "b35e30d4-0958-4f3c-8b94-caa8c7f8856d",
   "metadata": {
    "ExecuteTime": {
     "end_time": "2024-04-13T06:08:00.661156200Z",
     "start_time": "2024-04-13T06:08:00.095269800Z"
    }
   },
   "outputs": [
    {
     "name": "stderr",
     "output_type": "stream",
     "text": [
      "C:\\Users\\Asus\\AppData\\Local\\Temp\\ipykernel_13132\\3748576648.py:2: DtypeWarning: Columns (26) have mixed types. Specify dtype option on import or set low_memory=False.\n",
      "  df = pd.read_csv('train.csv')\n"
     ]
    }
   ],
   "source": [
    "# Загрузка датасета\n",
    "df = pd.read_csv('train.csv')"
   ]
  },
  {
   "cell_type": "code",
   "execution_count": 3,
   "id": "b2f14f95-a8d6-401b-8443-cca772c820ef",
   "metadata": {
    "ExecuteTime": {
     "end_time": "2024-04-13T06:08:01.866552500Z",
     "start_time": "2024-04-13T06:08:01.794042Z"
    }
   },
   "outputs": [
    {
     "name": "stdout",
     "output_type": "stream",
     "text": [
      "       ID Customer_ID     Month           Name   Age          SSN Occupation  \\\n",
      "0  0x1602   CUS_0xd40   January  Aaron Maashoh    23  821-00-0265  Scientist   \n",
      "1  0x1603   CUS_0xd40  February  Aaron Maashoh    23  821-00-0265  Scientist   \n",
      "2  0x1604   CUS_0xd40     March  Aaron Maashoh  -500  821-00-0265  Scientist   \n",
      "3  0x1605   CUS_0xd40     April  Aaron Maashoh    23  821-00-0265  Scientist   \n",
      "4  0x1606   CUS_0xd40       May  Aaron Maashoh    23  821-00-0265  Scientist   \n",
      "\n",
      "  Annual_Income  Monthly_Inhand_Salary  Num_Bank_Accounts  ...  Credit_Mix  \\\n",
      "0      19114.12            1824.843333                  3  ...           _   \n",
      "1      19114.12                    NaN                  3  ...        Good   \n",
      "2      19114.12                    NaN                  3  ...        Good   \n",
      "3      19114.12                    NaN                  3  ...        Good   \n",
      "4      19114.12            1824.843333                  3  ...        Good   \n",
      "\n",
      "   Outstanding_Debt Credit_Utilization_Ratio     Credit_History_Age  \\\n",
      "0            809.98                26.822620  22 Years and 1 Months   \n",
      "1            809.98                31.944960                    NaN   \n",
      "2            809.98                28.609352  22 Years and 3 Months   \n",
      "3            809.98                31.377862  22 Years and 4 Months   \n",
      "4            809.98                24.797347  22 Years and 5 Months   \n",
      "\n",
      "   Payment_of_Min_Amount Total_EMI_per_month Amount_invested_monthly  \\\n",
      "0                     No           49.574949       80.41529543900253   \n",
      "1                     No           49.574949      118.28022162236736   \n",
      "2                     No           49.574949         81.699521264648   \n",
      "3                     No           49.574949       199.4580743910713   \n",
      "4                     No           49.574949      41.420153086217326   \n",
      "\n",
      "                  Payment_Behaviour     Monthly_Balance Credit_Score  \n",
      "0   High_spent_Small_value_payments  312.49408867943663         Good  \n",
      "1    Low_spent_Large_value_payments  284.62916249607184         Good  \n",
      "2   Low_spent_Medium_value_payments   331.2098628537912         Good  \n",
      "3    Low_spent_Small_value_payments  223.45130972736786         Good  \n",
      "4  High_spent_Medium_value_payments  341.48923103222177         Good  \n",
      "\n",
      "[5 rows x 28 columns]\n",
      "<class 'pandas.core.frame.DataFrame'>\n",
      "RangeIndex: 100000 entries, 0 to 99999\n",
      "Data columns (total 28 columns):\n",
      " #   Column                    Non-Null Count   Dtype  \n",
      "---  ------                    --------------   -----  \n",
      " 0   ID                        100000 non-null  object \n",
      " 1   Customer_ID               100000 non-null  object \n",
      " 2   Month                     100000 non-null  object \n",
      " 3   Name                      90015 non-null   object \n",
      " 4   Age                       100000 non-null  object \n",
      " 5   SSN                       100000 non-null  object \n",
      " 6   Occupation                100000 non-null  object \n",
      " 7   Annual_Income             100000 non-null  object \n",
      " 8   Monthly_Inhand_Salary     84998 non-null   float64\n",
      " 9   Num_Bank_Accounts         100000 non-null  int64  \n",
      " 10  Num_Credit_Card           100000 non-null  int64  \n",
      " 11  Interest_Rate             100000 non-null  int64  \n",
      " 12  Num_of_Loan               100000 non-null  object \n",
      " 13  Type_of_Loan              88592 non-null   object \n",
      " 14  Delay_from_due_date       100000 non-null  int64  \n",
      " 15  Num_of_Delayed_Payment    92998 non-null   object \n",
      " 16  Changed_Credit_Limit      100000 non-null  object \n",
      " 17  Num_Credit_Inquiries      98035 non-null   float64\n",
      " 18  Credit_Mix                100000 non-null  object \n",
      " 19  Outstanding_Debt          100000 non-null  object \n",
      " 20  Credit_Utilization_Ratio  100000 non-null  float64\n",
      " 21  Credit_History_Age        90970 non-null   object \n",
      " 22  Payment_of_Min_Amount     100000 non-null  object \n",
      " 23  Total_EMI_per_month       100000 non-null  float64\n",
      " 24  Amount_invested_monthly   95521 non-null   object \n",
      " 25  Payment_Behaviour         100000 non-null  object \n",
      " 26  Monthly_Balance           98800 non-null   object \n",
      " 27  Credit_Score              100000 non-null  object \n",
      "dtypes: float64(4), int64(4), object(20)\n",
      "memory usage: 21.4+ MB\n",
      "None\n",
      "       Monthly_Inhand_Salary  Num_Bank_Accounts  Num_Credit_Card  \\\n",
      "count           84998.000000      100000.000000     100000.00000   \n",
      "mean             4194.170850          17.091280         22.47443   \n",
      "std              3183.686167         117.404834        129.05741   \n",
      "min               303.645417          -1.000000          0.00000   \n",
      "25%              1625.568229           3.000000          4.00000   \n",
      "50%              3093.745000           6.000000          5.00000   \n",
      "75%              5957.448333           7.000000          7.00000   \n",
      "max             15204.633333        1798.000000       1499.00000   \n",
      "\n",
      "       Interest_Rate  Delay_from_due_date  Num_Credit_Inquiries  \\\n",
      "count  100000.000000        100000.000000          98035.000000   \n",
      "mean       72.466040            21.068780             27.754251   \n",
      "std       466.422621            14.860104            193.177339   \n",
      "min         1.000000            -5.000000              0.000000   \n",
      "25%         8.000000            10.000000              3.000000   \n",
      "50%        13.000000            18.000000              6.000000   \n",
      "75%        20.000000            28.000000              9.000000   \n",
      "max      5797.000000            67.000000           2597.000000   \n",
      "\n",
      "       Credit_Utilization_Ratio  Total_EMI_per_month  \n",
      "count             100000.000000        100000.000000  \n",
      "mean                  32.285173          1403.118217  \n",
      "std                    5.116875          8306.041270  \n",
      "min                   20.000000             0.000000  \n",
      "25%                   28.052567            30.306660  \n",
      "50%                   32.305784            69.249473  \n",
      "75%                   36.496663           161.224249  \n",
      "max                   50.000000         82331.000000  \n"
     ]
    }
   ],
   "source": [
    "# Исследование датасета\n",
    "# Посмотрим на первые несколько строк датасета\n",
    "print(df.head())\n",
    "\n",
    "# Посмотрим на общую информацию о датасете\n",
    "print(df.info())\n",
    "\n",
    "# Посмотрим на описательную статистику числовых данных\n",
    "print(df.describe())"
   ]
  },
  {
   "cell_type": "code",
   "execution_count": 4,
   "id": "13971a5f-95d4-48f4-a1d0-3a9f696f4a5d",
   "metadata": {
    "ExecuteTime": {
     "end_time": "2024-04-13T06:08:04.744046100Z",
     "start_time": "2024-04-13T06:08:02.766033400Z"
    }
   },
   "outputs": [
    {
     "name": "stdout",
     "output_type": "stream",
     "text": [
      "Пропущенные значения в каждом столбце:\n",
      "ID                              0\n",
      "Customer_ID                     0\n",
      "Month                           0\n",
      "Name                         9985\n",
      "Age                             0\n",
      "SSN                             0\n",
      "Occupation                      0\n",
      "Annual_Income                   0\n",
      "Monthly_Inhand_Salary       15002\n",
      "Num_Bank_Accounts               0\n",
      "Num_Credit_Card                 0\n",
      "Interest_Rate                   0\n",
      "Num_of_Loan                     0\n",
      "Type_of_Loan                11408\n",
      "Delay_from_due_date             0\n",
      "Num_of_Delayed_Payment       7002\n",
      "Changed_Credit_Limit            0\n",
      "Num_Credit_Inquiries         1965\n",
      "Credit_Mix                      0\n",
      "Outstanding_Debt                0\n",
      "Credit_Utilization_Ratio        0\n",
      "Credit_History_Age           9030\n",
      "Payment_of_Min_Amount           0\n",
      "Total_EMI_per_month             0\n",
      "Amount_invested_monthly      4479\n",
      "Payment_Behaviour               0\n",
      "Monthly_Balance              1200\n",
      "Credit_Score                    0\n",
      "dtype: int64\n"
     ]
    },
    {
     "name": "stderr",
     "output_type": "stream",
     "text": [
      "C:\\Users\\Asus\\AppData\\Local\\Temp\\ipykernel_13132\\1168416614.py:10: FutureWarning: DataFrame.applymap has been deprecated. Use DataFrame.map instead.\n",
      "  cells_with_underscore = df.applymap(lambda x: '_' in str(x))\n"
     ]
    },
    {
     "name": "stdout",
     "output_type": "stream",
     "text": [
      "Ячейки с символом '_':\n",
      "          ID  Customer_ID  Month   Name    Age    SSN  Occupation  \\\n",
      "0      False        False  False  False  False  False       False   \n",
      "1      False        False  False  False  False  False       False   \n",
      "2      False        False  False  False  False  False       False   \n",
      "3      False        False  False  False  False  False       False   \n",
      "4      False        False  False  False  False  False       False   \n",
      "...      ...          ...    ...    ...    ...    ...         ...   \n",
      "99995  False        False  False  False  False  False       False   \n",
      "99996  False        False  False  False  False  False       False   \n",
      "99997  False        False  False  False  False  False       False   \n",
      "99998  False        False  False  False  False  False       False   \n",
      "99999  False        False  False  False  False  False       False   \n",
      "\n",
      "       Annual_Income  Monthly_Inhand_Salary  Num_Bank_Accounts  ...  \\\n",
      "0              False                  False              False  ...   \n",
      "1              False                  False              False  ...   \n",
      "2              False                  False              False  ...   \n",
      "3              False                  False              False  ...   \n",
      "4              False                  False              False  ...   \n",
      "...              ...                    ...                ...  ...   \n",
      "99995          False                  False              False  ...   \n",
      "99996          False                  False              False  ...   \n",
      "99997          False                  False              False  ...   \n",
      "99998          False                  False              False  ...   \n",
      "99999          False                  False              False  ...   \n",
      "\n",
      "       Credit_Mix  Outstanding_Debt  Credit_Utilization_Ratio  \\\n",
      "0           False             False                     False   \n",
      "1           False             False                     False   \n",
      "2           False             False                     False   \n",
      "3           False             False                     False   \n",
      "4           False             False                     False   \n",
      "...           ...               ...                       ...   \n",
      "99995       False             False                     False   \n",
      "99996       False             False                     False   \n",
      "99997       False             False                     False   \n",
      "99998       False             False                     False   \n",
      "99999       False             False                     False   \n",
      "\n",
      "       Credit_History_Age  Payment_of_Min_Amount  Total_EMI_per_month  \\\n",
      "0                   False                  False                False   \n",
      "1                   False                  False                False   \n",
      "2                   False                  False                False   \n",
      "3                   False                  False                False   \n",
      "4                   False                  False                False   \n",
      "...                   ...                    ...                  ...   \n",
      "99995               False                  False                False   \n",
      "99996               False                  False                False   \n",
      "99997               False                  False                False   \n",
      "99998               False                  False                False   \n",
      "99999               False                  False                False   \n",
      "\n",
      "       Amount_invested_monthly  Payment_Behaviour  Monthly_Balance  \\\n",
      "0                        False              False            False   \n",
      "1                        False              False            False   \n",
      "2                        False              False            False   \n",
      "3                        False              False            False   \n",
      "4                        False              False            False   \n",
      "...                        ...                ...              ...   \n",
      "99995                    False              False            False   \n",
      "99996                    False              False            False   \n",
      "99997                    False              False            False   \n",
      "99998                    False              False            False   \n",
      "99999                    False              False            False   \n",
      "\n",
      "       Credit_Score  \n",
      "0             False  \n",
      "1             False  \n",
      "2             False  \n",
      "3             False  \n",
      "4             False  \n",
      "...             ...  \n",
      "99995         False  \n",
      "99996         False  \n",
      "99997         False  \n",
      "99998         False  \n",
      "99999         False  \n",
      "\n",
      "[100000 rows x 28 columns]\n",
      "<class 'pandas.core.frame.DataFrame'>\n",
      "RangeIndex: 100000 entries, 0 to 99999\n",
      "Data columns (total 28 columns):\n",
      " #   Column                    Non-Null Count   Dtype  \n",
      "---  ------                    --------------   -----  \n",
      " 0   ID                        100000 non-null  object \n",
      " 1   Customer_ID               100000 non-null  object \n",
      " 2   Month                     100000 non-null  object \n",
      " 3   Name                      90015 non-null   object \n",
      " 4   Age                       100000 non-null  object \n",
      " 5   SSN                       100000 non-null  object \n",
      " 6   Occupation                100000 non-null  object \n",
      " 7   Annual_Income             100000 non-null  object \n",
      " 8   Monthly_Inhand_Salary     84998 non-null   float64\n",
      " 9   Num_Bank_Accounts         100000 non-null  int64  \n",
      " 10  Num_Credit_Card           100000 non-null  int64  \n",
      " 11  Interest_Rate             100000 non-null  int64  \n",
      " 12  Num_of_Loan               100000 non-null  object \n",
      " 13  Type_of_Loan              88592 non-null   object \n",
      " 14  Delay_from_due_date       100000 non-null  int64  \n",
      " 15  Num_of_Delayed_Payment    92998 non-null   object \n",
      " 16  Changed_Credit_Limit      100000 non-null  object \n",
      " 17  Num_Credit_Inquiries      98035 non-null   float64\n",
      " 18  Credit_Mix                100000 non-null  object \n",
      " 19  Outstanding_Debt          100000 non-null  object \n",
      " 20  Credit_Utilization_Ratio  100000 non-null  float64\n",
      " 21  Credit_History_Age        90970 non-null   object \n",
      " 22  Payment_of_Min_Amount     100000 non-null  object \n",
      " 23  Total_EMI_per_month       100000 non-null  float64\n",
      " 24  Amount_invested_monthly   95521 non-null   object \n",
      " 25  Payment_Behaviour         100000 non-null  object \n",
      " 26  Monthly_Balance           98800 non-null   object \n",
      " 27  Credit_Score              100000 non-null  object \n",
      "dtypes: float64(4), int64(4), object(20)\n",
      "memory usage: 21.4+ MB\n",
      "None\n"
     ]
    }
   ],
   "source": [
    "# Определение наличия пропущенных значений\n",
    "missing_values = df.isnull().sum()\n",
    "print(\"Пропущенные значения в каждом столбце:\")\n",
    "print(missing_values)\n",
    "# Проверьте на содержвание символа \"_\" \n",
    "# Удаление символа '_' из значений ячеек в DataFrame\n",
    "df = df.replace('_', '', regex=True)\n",
    "\n",
    "# Проверка наличия символа '_' в ячейках DataFrame\n",
    "cells_with_underscore = df.applymap(lambda x: '_' in str(x))\n",
    "\n",
    "# Вывод информации о ячейках с символом '_'\n",
    "print(\"Ячейки с символом '_':\")\n",
    "print(cells_with_underscore)\n",
    "\n",
    "\n",
    "# Выведем информацию о DataFrame после выполнения операций\n",
    "print(df.info())\n",
    "\n",
    "# Возможно некоторые стоблцы должны иметь числовое значение, но они имеют строковые значения. Обработайте\n",
    "cols_to_convert = ['Age']  # Замените на реальные названия столбцов\n",
    "for col in cols_to_convert:\n",
    "    df[col] = pd.to_numeric(df[col], errors='coerce')\n",
    "\n",
    "# Если посчитаете нужным , можете удалить некоторые стоблцы. "
   ]
  },
  {
   "cell_type": "code",
   "execution_count": 5,
   "outputs": [
    {
     "name": "stdout",
     "output_type": "stream",
     "text": [
      "       ID Customer_ID     Month           Name Age          SSN Occupation  \\\n",
      "0  0x1602    CUS0xd40   January  Aaron Maashoh  23  821-00-0265  Scientist   \n",
      "1  0x1603    CUS0xd40  February  Aaron Maashoh  23  821-00-0265  Scientist   \n",
      "2  0x1604    CUS0xd40     March  Aaron Maashoh      821-00-0265  Scientist   \n",
      "3  0x1605    CUS0xd40     April  Aaron Maashoh  23  821-00-0265  Scientist   \n",
      "4  0x1606    CUS0xd40       May  Aaron Maashoh  23  821-00-0265  Scientist   \n",
      "\n",
      "  Annual_Income  Monthly_Inhand_Salary  Num_Bank_Accounts  ...  Credit_Mix  \\\n",
      "0      19114.12            1824.843333                  3  ...               \n",
      "1      19114.12                    NaN                  3  ...        Good   \n",
      "2      19114.12                    NaN                  3  ...        Good   \n",
      "3      19114.12                    NaN                  3  ...        Good   \n",
      "4      19114.12            1824.843333                  3  ...        Good   \n",
      "\n",
      "   Outstanding_Debt Credit_Utilization_Ratio     Credit_History_Age  \\\n",
      "0            809.98                26.822620  22 Years and 1 Months   \n",
      "1            809.98                31.944960                    NaN   \n",
      "2            809.98                28.609352  22 Years and 3 Months   \n",
      "3            809.98                31.377862  22 Years and 4 Months   \n",
      "4            809.98                24.797347  22 Years and 5 Months   \n",
      "\n",
      "   Payment_of_Min_Amount Total_EMI_per_month Amount_invested_monthly  \\\n",
      "0                     No           49.574949       80.41529543900253   \n",
      "1                     No           49.574949      118.28022162236736   \n",
      "2                     No           49.574949         81.699521264648   \n",
      "3                     No           49.574949       199.4580743910713   \n",
      "4                     No           49.574949      41.420153086217326   \n",
      "\n",
      "              Payment_Behaviour     Monthly_Balance Credit_Score  \n",
      "0   HighspentSmallvaluepayments  312.49408867943663         Good  \n",
      "1    LowspentLargevaluepayments  284.62916249607184         Good  \n",
      "2   LowspentMediumvaluepayments   331.2098628537912         Good  \n",
      "3    LowspentSmallvaluepayments  223.45130972736786         Good  \n",
      "4  HighspentMediumvaluepayments  341.48923103222177         Good  \n",
      "\n",
      "[5 rows x 28 columns]\n"
     ]
    },
    {
     "name": "stderr",
     "output_type": "stream",
     "text": [
      "C:\\Users\\Asus\\AppData\\Local\\Temp\\ipykernel_13132\\2425954402.py:2: FutureWarning: Setting an item of incompatible dtype is deprecated and will raise in a future error of pandas. Value '' has dtype incompatible with int64, please explicitly cast to a compatible dtype first.\n",
      "  df.loc[(df['Age'] < 0) | (df['Age'] > 100), 'Age'] = ''\n"
     ]
    }
   ],
   "source": [
    "# Замена некорректных значений в столбце 'Age' на пустую строку\n",
    "df.loc[(df['Age'] < 0) | (df['Age'] > 100), 'Age'] = ''\n",
    "\n",
    "# Выведем информацию о DataFrame после замены\n",
    "print(df.head())\n",
    "\n"
   ],
   "metadata": {
    "collapsed": false,
    "ExecuteTime": {
     "end_time": "2024-04-13T06:08:04.759142Z",
     "start_time": "2024-04-13T06:08:04.740121300Z"
    }
   },
   "id": "c129e253ec0ce1f"
  },
  {
   "cell_type": "code",
   "execution_count": 6,
   "id": "17a93ee9-136b-447c-883a-8d635e38be96",
   "metadata": {
    "ExecuteTime": {
     "end_time": "2024-04-13T06:08:06.950268900Z",
     "start_time": "2024-04-13T06:08:06.574206500Z"
    }
   },
   "outputs": [
    {
     "data": {
      "text/plain": "<Figure size 640x480 with 1 Axes>",
      "image/png": "[encoded data removed]"
     },
     "metadata": {},
     "output_type": "display_data"
    },
    {
     "data": {
      "text/plain": "<Figure size 800x800 with 1 Axes>",
      "image/png": "[encoded data removed]"
     },
     "metadata": {},
     "output_type": "display_data"
    }
   ],
   "source": [
    "# Визуализация данных \n",
    "# Удаление строк с пустыми значениями в столбце 'Age'\n",
    "df = df[df['Age'] != '']\n",
    "\n",
    "# Преобразование столбца 'Age' в числовой формат\n",
    "df['Age'] = pd.to_numeric(df['Age'])\n",
    "\n",
    "# Визуализация данных\n",
    "plt.hist(df['Age'], bins=20, color='skyblue')\n",
    "plt.xlabel('Возраст')\n",
    "plt.ylabel('Частота')\n",
    "plt.title('Распределение возраста')\n",
    "plt.show()\n",
    "\n",
    "# Подсчет количества уникальных значений в столбце 'Credit_Score'\n",
    "credit_score_counts = df['Credit_Score'].value_counts()\n",
    "\n",
    "# Визуализация данных в круговой диаграмме\n",
    "plt.figure(figsize=(8, 8))\n",
    "plt.pie(credit_score_counts, labels=credit_score_counts.index, autopct='%1.1f%%', startangle=140)\n",
    "plt.title('Распределение кредитных рейтингов')\n",
    "plt.show()\n",
    "\n"
   ]
  },
  {
   "cell_type": "code",
   "execution_count": 17,
   "outputs": [
    {
     "name": "stdout",
     "output_type": "stream",
     "text": [
      "Accuracy Logistic Regression: 0.5196896217264791\n",
      "Accuracy Decision Tree: 0.7026188166828322\n",
      "Accuracy Random Forest: 0.7475266731328807\n"
     ]
    }
   ],
   "source": [
    "from sklearn.model_selection import train_test_split\n",
    "from sklearn.linear_model import LogisticRegression\n",
    "from sklearn.tree import DecisionTreeClassifier\n",
    "from sklearn.ensemble import RandomForestClassifier\n",
    "from sklearn.metrics import accuracy_score\n",
    "\n",
    "# Удаление всех NaN значений из DataFrame\n",
    "df.dropna(inplace=True)\n",
    "\n",
    "# Подготовка данных\n",
    "X = df[['Annual_Income', 'Num_of_Delayed_Payment', 'Delay_from_due_date','Interest_Rate','Monthly_Inhand_Salary', 'Num_Credit_Inquiries', 'Num_Credit_Inquiries']]\n",
    "y = df['Credit_Score']  \n",
    "\n",
    "# Разделение данных на обучающий и тестовый наборы\n",
    "X_train, X_test, y_train, y_test = train_test_split(X, y, test_size=0.2, random_state=42)\n",
    "\n",
    "# Обучение моделей\n",
    "log_reg = LogisticRegression()\n",
    "log_reg.fit(X_train, y_train)\n",
    "\n",
    "dt = DecisionTreeClassifier()\n",
    "dt.fit(X_train, y_train)\n",
    "\n",
    "rf = RandomForestClassifier()\n",
    "rf.fit(X_train, y_train)\n",
    "\n",
    "# Оценка производительности моделей на тестовом наборе\n",
    "y_pred_log_reg = log_reg.predict(X_test)\n",
    "accuracy_log_reg = accuracy_score(y_test, y_pred_log_reg)\n",
    "print(\"Accuracy Logistic Regression:\", accuracy_log_reg)\n",
    "\n",
    "y_pred_dt = dt.predict(X_test)\n",
    "accuracy_dt = accuracy_score(y_test, y_pred_dt)\n",
    "print(\"Accuracy Decision Tree:\", accuracy_dt)\n",
    "\n",
    "y_pred_rf = rf.predict(X_test)\n",
    "accuracy_rf = accuracy_score(y_test, y_pred_rf)\n",
    "print(\"Accuracy Random Forest:\", accuracy_rf)\n"
   ],
   "metadata": {
    "collapsed": false,
    "ExecuteTime": {
     "end_time": "2024-04-13T06:14:37.786656800Z",
     "start_time": "2024-04-13T06:14:27.140096600Z"
    }
   },
   "id": "26e6416c4b14dbec"
  },
  {
   "cell_type": "code",
   "execution_count": 18,
   "id": "b69cbac2-88ac-40d5-9f93-6b2f36a4525b",
   "metadata": {
    "ExecuteTime": {
     "end_time": "2024-04-13T06:15:40.095886200Z",
     "start_time": "2024-04-13T06:15:39.045209700Z"
    }
   },
   "outputs": [
    {
     "name": "stderr",
     "output_type": "stream",
     "text": [
      "C:\\Users\\Asus\\PycharmProjects\\bigDataLabs\\venv\\Lib\\site-packages\\sklearn\\metrics\\_classification.py:1469: UndefinedMetricWarning: Precision is ill-defined and being set to 0.0 in labels with no predicted samples. Use `zero_division` parameter to control this behavior.\n",
      "  _warn_prf(average, modifier, msg_start, len(result))\n"
     ]
    },
    {
     "name": "stdout",
     "output_type": "stream",
     "text": [
      "Logistic Regression:\n",
      "Accuracy: 0.5196896217264791\n",
      "Precision: 0.5893938936161902\n",
      "Recall: 0.5196896217264791\n",
      "F1-score: 0.35596942372012147\n",
      "\n",
      "Decision Tree:\n",
      "Accuracy: 0.7026188166828322\n",
      "Precision: 0.7049907771913813\n",
      "Recall: 0.7026188166828322\n",
      "F1-score: 0.7033168922133101\n",
      "\n",
      "Random Forest:\n",
      "Accuracy: 0.7475266731328807\n",
      "Precision: 0.7467279375611359\n",
      "Recall: 0.7475266731328807\n",
      "F1-score: 0.7468484370774912\n"
     ]
    }
   ],
   "source": [
    "# Предсказание на тестовом наборе (например, accuracy, precision, recall, F1-score).\n",
    "from sklearn.metrics import accuracy_score, precision_score, recall_score, f1_score\n",
    "\n",
    "# Предсказание на тестовом наборе для каждой модели\n",
    "y_pred_log_reg = log_reg.predict(X_test)\n",
    "y_pred_dt = dt.predict(X_test)\n",
    "y_pred_rf = rf.predict(X_test)\n",
    "\n",
    "# Вычисление метрик для каждой модели\n",
    "accuracy_log_reg = accuracy_score(y_test, y_pred_log_reg)\n",
    "precision_log_reg = precision_score(y_test, y_pred_log_reg, average='weighted')\n",
    "recall_log_reg = recall_score(y_test, y_pred_log_reg, average='weighted')\n",
    "f1_log_reg = f1_score(y_test, y_pred_log_reg, average='weighted')\n",
    "\n",
    "accuracy_dt = accuracy_score(y_test, y_pred_dt)\n",
    "precision_dt = precision_score(y_test, y_pred_dt, average='weighted')\n",
    "recall_dt = recall_score(y_test, y_pred_dt, average='weighted')\n",
    "f1_dt = f1_score(y_test, y_pred_dt, average='weighted')\n",
    "\n",
    "accuracy_rf = accuracy_score(y_test, y_pred_rf)\n",
    "precision_rf = precision_score(y_test, y_pred_rf, average='weighted')\n",
    "recall_rf = recall_score(y_test, y_pred_rf, average='weighted')\n",
    "f1_rf = f1_score(y_test, y_pred_rf, average='weighted')\n",
    "\n",
    "# Вывод метрик для каждой модели\n",
    "print(\"Logistic Regression:\")\n",
    "print(\"Accuracy:\", accuracy_log_reg)\n",
    "print(\"Precision:\", precision_log_reg)\n",
    "print(\"Recall:\", recall_log_reg)\n",
    "print(\"F1-score:\", f1_log_reg)\n",
    "print()\n",
    "\n",
    "print(\"Decision Tree:\")\n",
    "print(\"Accuracy:\", accuracy_dt)\n",
    "print(\"Precision:\", precision_dt)\n",
    "print(\"Recall:\", recall_dt)\n",
    "print(\"F1-score:\", f1_dt)\n",
    "print()\n",
    "\n",
    "print(\"Random Forest:\")\n",
    "print(\"Accuracy:\", accuracy_rf)\n",
    "print(\"Precision:\", precision_rf)\n",
    "print(\"Recall:\", recall_rf)\n",
    "print(\"F1-score:\", f1_rf)\n"
   ]
  },
  {
   "cell_type": "markdown",
   "source": [
    "# Проанализируйте результаты и сделайте выводы о качестве модели.\n",
    "В датасете было очень много пустых и некорректных значений, в основном для прогноза использовались столбцы годового, месячного дохода, так же количество пропущенных погашений и credit_max."
   ],
   "metadata": {
    "collapsed": false
   },
   "id": "8bb7f60b9253ab8b"
  },
  {
   "cell_type": "code",
   "execution_count": null,
   "id": "9153517b-8315-4e2a-b09e-c5c4466f443e",
   "metadata": {
    "ExecuteTime": {
     "start_time": "2024-04-13T06:01:25.516376700Z"
    }
   },
   "outputs": [],
   "source": []
  }
 ],
 "metadata": {
  "kernelspec": {
   "display_name": "Python 3 (ipykernel)",
   "language": "python",
   "name": "python3"
  },
  "language_info": {
   "codemirror_mode": {
    "name": "ipython",
    "version": 3
   },
   "file_extension": ".py",
   "mimetype": "text/x-python",
   "name": "python",
   "nbconvert_exporter": "python",
   "pygments_lexer": "ipython3",
   "version": "3.11.5"
  }
 },
 "nbformat": 4,
 "nbformat_minor": 5
}
