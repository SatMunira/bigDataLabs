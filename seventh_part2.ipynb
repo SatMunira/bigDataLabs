{
 "cells": [
  {
   "cell_type": "code",
   "execution_count": 80,
   "outputs": [],
   "source": [
    "import pandas as pd\n",
    "import numpy as np\n",
    "\n",
    "from sklearn.model_selection import train_test_split\n",
    "from sklearn.feature_extraction.text import CountVectorizer\n",
    "\n",
    "from sklearn.model_selection import cross_val_score\n",
    "from sklearn.linear_model import LogisticRegression"
   ],
   "metadata": {
    "collapsed": false,
    "ExecuteTime": {
     "end_time": "2023-12-14T14:34:39.472496800Z",
     "start_time": "2023-12-14T14:34:39.466468900Z"
    }
   },
   "id": "c28fa919addac135"
  },
  {
   "cell_type": "code",
   "execution_count": 81,
   "outputs": [
    {
     "data": {
      "text/plain": "   Unnamed: 0 country                                        description  \\\n0           0      US  This tremendous 100% varietal wine hails from ...   \n1           1   Spain  Ripe aromas of fig, blackberry and cassis are ...   \n2           2      US  Mac Watson honors the memory of a wine once ma...   \n3           3      US  This spent 20 months in 30% new French oak, an...   \n4           4  France  This is the top wine from La BÃ©gude, named af...   \n\n                             designation  points  price        province  \\\n0                      Martha's Vineyard      96  235.0      California   \n1  Carodorum SelecciÃ³n Especial Reserva      96  110.0  Northern Spain   \n2          Special Selected Late Harvest      96   90.0      California   \n3                                Reserve      96   65.0          Oregon   \n4                            La BrÃ»lade      95   66.0        Provence   \n\n            region_1           region_2             variety  \\\n0        Napa Valley               Napa  Cabernet Sauvignon   \n1               Toro                NaN       Tinta de Toro   \n2     Knights Valley             Sonoma     Sauvignon Blanc   \n3  Willamette Valley  Willamette Valley          Pinot Noir   \n4             Bandol                NaN  Provence red blend   \n\n                     winery  \n0                     Heitz  \n1  Bodega Carmen RodrÃ­guez  \n2                  Macauley  \n3                     Ponzi  \n4     Domaine de la BÃ©gude  ",
      "text/html": "<div>\n<style scoped>\n    .dataframe tbody tr th:only-of-type {\n        vertical-align: middle;\n    }\n\n    .dataframe tbody tr th {\n        vertical-align: top;\n    }\n\n    .dataframe thead th {\n        text-align: right;\n    }\n</style>\n<table border=\"1\" class=\"dataframe\">\n  <thead>\n    <tr style=\"text-align: right;\">\n      <th></th>\n      <th>Unnamed: 0</th>\n      <th>country</th>\n      <th>description</th>\n      <th>designation</th>\n      <th>points</th>\n      <th>price</th>\n      <th>province</th>\n      <th>region_1</th>\n      <th>region_2</th>\n      <th>variety</th>\n      <th>winery</th>\n    </tr>\n  </thead>\n  <tbody>\n    <tr>\n      <th>0</th>\n      <td>0</td>\n      <td>US</td>\n      <td>This tremendous 100% varietal wine hails from ...</td>\n      <td>Martha's Vineyard</td>\n      <td>96</td>\n      <td>235.0</td>\n      <td>California</td>\n      <td>Napa Valley</td>\n      <td>Napa</td>\n      <td>Cabernet Sauvignon</td>\n      <td>Heitz</td>\n    </tr>\n    <tr>\n      <th>1</th>\n      <td>1</td>\n      <td>Spain</td>\n      <td>Ripe aromas of fig, blackberry and cassis are ...</td>\n      <td>Carodorum SelecciÃ³n Especial Reserva</td>\n      <td>96</td>\n      <td>110.0</td>\n      <td>Northern Spain</td>\n      <td>Toro</td>\n      <td>NaN</td>\n      <td>Tinta de Toro</td>\n      <td>Bodega Carmen RodrÃ­guez</td>\n    </tr>\n    <tr>\n      <th>2</th>\n      <td>2</td>\n      <td>US</td>\n      <td>Mac Watson honors the memory of a wine once ma...</td>\n      <td>Special Selected Late Harvest</td>\n      <td>96</td>\n      <td>90.0</td>\n      <td>California</td>\n      <td>Knights Valley</td>\n      <td>Sonoma</td>\n      <td>Sauvignon Blanc</td>\n      <td>Macauley</td>\n    </tr>\n    <tr>\n      <th>3</th>\n      <td>3</td>\n      <td>US</td>\n      <td>This spent 20 months in 30% new French oak, an...</td>\n      <td>Reserve</td>\n      <td>96</td>\n      <td>65.0</td>\n      <td>Oregon</td>\n      <td>Willamette Valley</td>\n      <td>Willamette Valley</td>\n      <td>Pinot Noir</td>\n      <td>Ponzi</td>\n    </tr>\n    <tr>\n      <th>4</th>\n      <td>4</td>\n      <td>France</td>\n      <td>This is the top wine from La BÃ©gude, named af...</td>\n      <td>La BrÃ»lade</td>\n      <td>95</td>\n      <td>66.0</td>\n      <td>Provence</td>\n      <td>Bandol</td>\n      <td>NaN</td>\n      <td>Provence red blend</td>\n      <td>Domaine de la BÃ©gude</td>\n    </tr>\n  </tbody>\n</table>\n</div>"
     },
     "execution_count": 81,
     "metadata": {},
     "output_type": "execute_result"
    }
   ],
   "source": [
    "df = pd.read_csv('C:\\\\Users\\Asus\\PycharmProjects\\\\bigDataLabs\\seventh_lab\\winemag-data_first150k.csv', encoding='latin-1')\n",
    "df.head()"
   ],
   "metadata": {
    "collapsed": false,
    "ExecuteTime": {
     "end_time": "2023-12-14T14:34:40.388949700Z",
     "start_time": "2023-12-14T14:34:39.835175700Z"
    }
   },
   "id": "29167e7a46cfeadd"
  },
  {
   "cell_type": "code",
   "execution_count": 82,
   "outputs": [
    {
     "name": "stdout",
     "output_type": "stream",
     "text": [
      "<class 'pandas.core.frame.DataFrame'>\n",
      "RangeIndex: 150930 entries, 0 to 150929\n",
      "Data columns (total 11 columns):\n",
      " #   Column       Non-Null Count   Dtype  \n",
      "---  ------       --------------   -----  \n",
      " 0   Unnamed: 0   150930 non-null  int64  \n",
      " 1   country      150925 non-null  object \n",
      " 2   description  150930 non-null  object \n",
      " 3   designation  105195 non-null  object \n",
      " 4   points       150930 non-null  int64  \n",
      " 5   price        137235 non-null  float64\n",
      " 6   province     150925 non-null  object \n",
      " 7   region_1     125870 non-null  object \n",
      " 8   region_2     60953 non-null   object \n",
      " 9   variety      150930 non-null  object \n",
      " 10  winery       150930 non-null  object \n",
      "dtypes: float64(1), int64(2), object(8)\n",
      "memory usage: 12.7+ MB\n"
     ]
    }
   ],
   "source": [
    "df.info()"
   ],
   "metadata": {
    "collapsed": false,
    "ExecuteTime": {
     "end_time": "2023-12-14T14:34:40.489923100Z",
     "start_time": "2023-12-14T14:34:40.388949700Z"
    }
   },
   "id": "f23469ce3f605a9"
  },
  {
   "cell_type": "code",
   "execution_count": 83,
   "outputs": [
    {
     "data": {
      "text/plain": "Index(['Unnamed: 0', 'country', 'description', 'designation', 'points',\n       'price', 'province', 'region_1', 'region_2', 'variety', 'winery'],\n      dtype='object')"
     },
     "execution_count": 83,
     "metadata": {},
     "output_type": "execute_result"
    }
   ],
   "source": [
    "df.keys()"
   ],
   "metadata": {
    "collapsed": false,
    "ExecuteTime": {
     "end_time": "2023-12-14T14:34:40.491927400Z",
     "start_time": "2023-12-14T14:34:40.451766600Z"
    }
   },
   "id": "5e6fe23e805011c7"
  },
  {
   "cell_type": "code",
   "execution_count": 84,
   "outputs": [],
   "source": [
    "df['target'] = df['points'].apply(lambda x: 'neg' if x <= 85 else 'pos')"
   ],
   "metadata": {
    "collapsed": false,
    "ExecuteTime": {
     "end_time": "2023-12-14T14:34:41.455146800Z",
     "start_time": "2023-12-14T14:34:41.440057400Z"
    }
   },
   "id": "1804d6e25ce3ccb"
  },
  {
   "cell_type": "code",
   "execution_count": 85,
   "outputs": [
    {
     "data": {
      "text/plain": "0         pos\n1         pos\n2         pos\n3         pos\n4         pos\n         ... \n150925    pos\n150926    pos\n150927    pos\n150928    pos\n150929    pos\nName: target, Length: 150930, dtype: object"
     },
     "execution_count": 85,
     "metadata": {},
     "output_type": "execute_result"
    }
   ],
   "source": [
    "df['target']"
   ],
   "metadata": {
    "collapsed": false,
    "ExecuteTime": {
     "end_time": "2023-12-14T14:34:42.117991Z",
     "start_time": "2023-12-14T14:34:42.111573400Z"
    }
   },
   "id": "3f5f3e97193d1ba9"
  },
  {
   "cell_type": "code",
   "execution_count": 86,
   "outputs": [
    {
     "data": {
      "text/plain": "target\npos    115322\nneg     35608\nName: count, dtype: int64"
     },
     "execution_count": 86,
     "metadata": {},
     "output_type": "execute_result"
    }
   ],
   "source": [
    "review_counts = df['target'].value_counts()\n",
    "review_counts"
   ],
   "metadata": {
    "collapsed": false,
    "ExecuteTime": {
     "end_time": "2023-12-14T14:34:42.732766300Z",
     "start_time": "2023-12-14T14:34:42.724774300Z"
    }
   },
   "id": "5b705867f39715ea"
  },
  {
   "cell_type": "code",
   "execution_count": 87,
   "outputs": [],
   "source": [
    "df.drop(columns=['price'], inplace=True)\n",
    "df.drop(columns=['province'], inplace=True)\n",
    "df.drop(columns=['region_1'], inplace=True)\n",
    "df.drop(columns=['region_2'], inplace=True)"
   ],
   "metadata": {
    "collapsed": false,
    "ExecuteTime": {
     "end_time": "2023-12-14T14:34:43.854608Z",
     "start_time": "2023-12-14T14:34:43.802047500Z"
    }
   },
   "id": "e68f39909e080822"
  },
  {
   "cell_type": "code",
   "execution_count": 88,
   "outputs": [
    {
     "data": {
      "text/plain": "Index(['Unnamed: 0', 'country', 'description', 'designation', 'points',\n       'variety', 'winery', 'target'],\n      dtype='object')"
     },
     "execution_count": 88,
     "metadata": {},
     "output_type": "execute_result"
    }
   ],
   "source": [
    "df.keys()"
   ],
   "metadata": {
    "collapsed": false,
    "ExecuteTime": {
     "end_time": "2023-12-14T14:34:46.189553400Z",
     "start_time": "2023-12-14T14:34:46.186782Z"
    }
   },
   "id": "caec324c7f3553bc"
  },
  {
   "cell_type": "code",
   "execution_count": 89,
   "outputs": [],
   "source": [
    "text_train, text_test, y_train, y_test = train_test_split(df['description'], df['target'], test_size=0.2, random_state=42)"
   ],
   "metadata": {
    "collapsed": false,
    "ExecuteTime": {
     "end_time": "2023-12-14T14:34:47.386371200Z",
     "start_time": "2023-12-14T14:34:47.352452300Z"
    }
   },
   "id": "d1447557bfde0da"
  },
  {
   "cell_type": "code",
   "execution_count": 90,
   "outputs": [
    {
     "name": "stdout",
     "output_type": "stream",
     "text": [
      "X_train:\n",
      "<120744x30587 sparse matrix of type '<class 'numpy.int64'>'\n",
      "\twith 4139402 stored elements in Compressed Sparse Row format>\n"
     ]
    }
   ],
   "source": [
    "vect = CountVectorizer().fit(text_train)\n",
    "X_train = vect.transform(text_train)\n",
    "print('X_train:\\n{}'.format(repr(X_train)))"
   ],
   "metadata": {
    "collapsed": false,
    "ExecuteTime": {
     "end_time": "2023-12-14T14:34:52.962984700Z",
     "start_time": "2023-12-14T14:34:48.002341Z"
    }
   },
   "id": "be9752941f04639d"
  },
  {
   "cell_type": "code",
   "execution_count": 91,
   "outputs": [
    {
     "name": "stdout",
     "output_type": "stream",
     "text": [
      "Количество признаков: 30587\n",
      "Первые 20 признаков: ['00' '000' '002' '008' '01' '01s' '02' '02s' '03' '03s' '04' '04s' '04â'\n",
      " '05' '05s' '06' '061' '064' '06s' '07']\n",
      "Признаки с 1000 до 1020: ['aforementioned' 'afoul' 'afraid' 'afresh' 'africa' 'african' 'africans'\n",
      " 'afrikaner' 'aft' 'after' 'afterburners' 'afterflavors' 'afterglow'\n",
      " 'afterlife' 'aftermarket' 'aftermath' 'afternoon' 'afternoons'\n",
      " 'afternoonâ' 'afternotes']\n"
     ]
    }
   ],
   "source": [
    "feature_names = vect.get_feature_names_out()\n",
    "print('Количество признаков: {}'.format(len(feature_names)))\n",
    "print('Первые 20 признаков: {}'.format(feature_names[:20]))\n",
    "print('Признаки с 1000 до 1020: {}'.format(feature_names[1000:1020]))"
   ],
   "metadata": {
    "collapsed": false,
    "ExecuteTime": {
     "end_time": "2023-12-14T14:34:52.988695500Z",
     "start_time": "2023-12-14T14:34:52.962984700Z"
    }
   },
   "id": "c68884c6a7c7c52c"
  },
  {
   "cell_type": "code",
   "execution_count": 92,
   "outputs": [
    {
     "name": "stdout",
     "output_type": "stream",
     "text": [
      "Class Distribution: {'neg': 28505, 'pos': 92239}\n",
      "Average cross-validation accuracy: 0.90\n"
     ]
    }
   ],
   "source": [
    "import numpy as np\n",
    "from sklearn.model_selection import cross_val_score\n",
    "from sklearn.linear_model import LogisticRegression\n",
    "\n",
    "# Check class distribution\n",
    "unique_classes, class_counts = np.unique(y_train, return_counts=True)\n",
    "print(\"Class Distribution:\", dict(zip(unique_classes, class_counts)))\n",
    "\n",
    "# Continue with cross-validation if classes are balanced\n",
    "if len(unique_classes) >= 2:\n",
    "    scores = cross_val_score(LogisticRegression(max_iter=1000), X_train, y_train, cv=5)\n",
    "    print(\"Average cross-validation accuracy: {:.2f}\".format(np.mean(scores)))\n",
    "else:\n",
    "    print(\"Error: Not enough classes in the training data.\")\n"
   ],
   "metadata": {
    "collapsed": false,
    "ExecuteTime": {
     "end_time": "2023-12-14T14:35:31.114393Z",
     "start_time": "2023-12-14T14:34:54.516831300Z"
    }
   },
   "id": "d5cae365ff419dc9"
  },
  {
   "cell_type": "code",
   "execution_count": 93,
   "outputs": [
    {
     "name": "stdout",
     "output_type": "stream",
     "text": [
      "Class Distribution: {'neg': 28505, 'pos': 92239}\n",
      "Best Cross-Validation Score: 0.90\n",
      "Best Parameters:  {'C': 10}\n"
     ]
    }
   ],
   "source": [
    "import numpy as np\n",
    "from sklearn.model_selection import GridSearchCV\n",
    "from sklearn.linear_model import LogisticRegression\n",
    "\n",
    "# Check class distribution\n",
    "unique_classes, class_counts = np.unique(y_train, return_counts=True)\n",
    "print(\"Class Distribution:\", dict(zip(unique_classes, class_counts)))\n",
    "\n",
    "# Continue with grid search if classes are balanced\n",
    "if len(unique_classes) >= 2:\n",
    "    param_grid = {'C': [0.001, 0.01, 0.1, 1, 10]}\n",
    "    grid = GridSearchCV(LogisticRegression(max_iter=3000), param_grid, cv=5)\n",
    "    grid.fit(X_train, y_train)\n",
    "    print('Best Cross-Validation Score: {:.2f}'.format(grid.best_score_))\n",
    "    print('Best Parameters: ', grid.best_params_)\n",
    "else:\n",
    "    print(\"Error: Not enough classes in the training data.\")\n"
   ],
   "metadata": {
    "collapsed": false,
    "ExecuteTime": {
     "end_time": "2023-12-14T14:39:17.274142600Z",
     "start_time": "2023-12-14T14:35:31.110230800Z"
    }
   },
   "id": "8bfaad04c4110ae7"
  },
  {
   "cell_type": "code",
   "execution_count": 94,
   "outputs": [
    {
     "name": "stdout",
     "output_type": "stream",
     "text": [
      "X_train c min_df: <120744x9232 sparse matrix of type '<class 'numpy.int64'>'\n",
      "\twith 4080223 stored elements in Compressed Sparse Row format>\n"
     ]
    }
   ],
   "source": [
    "from sklearn.feature_extraction.text import CountVectorizer\n",
    "\n",
    "vect = CountVectorizer(min_df=10).fit(text_train)\n",
    "X_train = vect.transform(text_train)\n",
    "print(\"X_train c min_df: {}\".format(repr(X_train)))"
   ],
   "metadata": {
    "collapsed": false,
    "ExecuteTime": {
     "end_time": "2023-12-14T14:42:32.623460400Z",
     "start_time": "2023-12-14T14:42:27.703942800Z"
    }
   },
   "id": "c6535d13dcf15a22"
  },
  {
   "cell_type": "code",
   "execution_count": 96,
   "outputs": [
    {
     "name": "stdout",
     "output_type": "stream",
     "text": [
      "Количество признаков: 9232\n",
      "Первые 20 признаков: ['000' '01' '02' '03' '04' '05' '06' '07' '08' '09' '10' '100' '10â' '11'\n",
      " '12' '125' '13' '130' '14' '15']\n",
      "Признаки с 1000 до 1020: ['bolla' 'bollinger' 'bolster' 'bolstered' 'bolstering' 'bolt' 'bomb'\n",
      " 'bombs' 'bon' 'bonarda' 'bone' 'boned' 'bones' 'bonterra' 'bonus' 'book'\n",
      " 'bookwalter' 'boost' 'boosted' 'boosts']\n"
     ]
    }
   ],
   "source": [
    "feature_names = vect.get_feature_names_out()\n",
    "print('Количество признаков: {}'.format(len(feature_names)))\n",
    "print('Первые 20 признаков: {}'.format(feature_names[:20]))\n",
    "print('Признаки с 1000 до 1020: {}'.format(feature_names[1000:1020]))"
   ],
   "metadata": {
    "collapsed": false,
    "ExecuteTime": {
     "end_time": "2023-12-14T14:44:17.076343300Z",
     "start_time": "2023-12-14T14:44:17.070815600Z"
    }
   },
   "id": "f72cc85680f8182a"
  },
  {
   "cell_type": "code",
   "execution_count": 99,
   "outputs": [
    {
     "name": "stderr",
     "output_type": "stream",
     "text": [
      "[nltk_data] Downloading package stopwords to\n",
      "[nltk_data]     C:\\Users\\Asus\\AppData\\Roaming\\nltk_data...\n",
      "[nltk_data]   Package stopwords is already up-to-date!\n",
      "[nltk_data] Downloading package punkt to\n",
      "[nltk_data]     C:\\Users\\Asus\\AppData\\Roaming\\nltk_data...\n",
      "[nltk_data]   Package punkt is already up-to-date!\n"
     ]
    },
    {
     "name": "stdout",
     "output_type": "stream",
     "text": [
      "Original Review: This tremendous 100% varietal wine hails from Oakville and was aged over three years in oak. Juicy red-cherry fruit and a compelling hint of caramel greet the palate, framed by elegant, fine tannins and a subtle minty tone in the background. Balanced and rewarding from start to finish, it has years ahead of it to develop further nuance. Enjoy 2022â2030.\n",
      "Tokenized Review: ['This', 'tremendous', '100', '%', 'varietal', 'wine', 'hails', 'from', 'Oakville', 'and', 'was', 'aged', 'over', 'three', 'years', 'in', 'oak', '.', 'Juicy', 'red-cherry', 'fruit', 'and', 'a', 'compelling', 'hint', 'of', 'caramel', 'greet', 'the', 'palate', ',', 'framed', 'by', 'elegant', ',', 'fine', 'tannins', 'and', 'a', 'subtle', 'minty', 'tone', 'in', 'the', 'background', '.', 'Balanced', 'and', 'rewarding', 'from', 'start', 'to', 'finish', ',', 'it', 'has', 'years', 'ahead', 'of', 'it', 'to', 'develop', 'further', 'nuance', '.', 'Enjoy', '2022â\\x80\\x932030', '.']\n",
      "Filtered Review (without stopwords): ['tremendous', '100', '%', 'varietal', 'wine', 'hails', 'Oakville', 'aged', 'three', 'years', 'oak', '.', 'Juicy', 'red-cherry', 'fruit', 'compelling', 'hint', 'caramel', 'greet', 'palate', ',', 'framed', 'elegant', ',', 'fine', 'tannins', 'subtle', 'minty', 'tone', 'background', '.', 'Balanced', 'rewarding', 'start', 'finish', ',', 'years', 'ahead', 'develop', 'nuance', '.', 'Enjoy', '2022â\\x80\\x932030', '.']\n",
      "Features (words) from CountVectorizer: ['00' '000' '002' ... 'ã¼ber' 'ã¼berbest' 'å½ilavka']\n"
     ]
    }
   ],
   "source": [
    "import nltk\n",
    "from nltk.corpus import stopwords\n",
    "from nltk.tokenize import word_tokenize\n",
    "\n",
    "# Получение списка текстовых отзывов из столбца 'Review'\n",
    "reviews = df['description'].tolist()\n",
    "nltk.download('stopwords')\n",
    "nltk.download('punkt')\n",
    "\n",
    "# Создание словаря стоп-слов на основе английского языка из библиотеки nltk\n",
    "stop_words = set(stopwords.words('english'))\n",
    "\n",
    "# Пример токенизации текста\n",
    "tokenized_reviews = [word_tokenize(review) for review in reviews]\n",
    "\n",
    "# Удаление стоп-слов из токенизированных отзывов\n",
    "filtered_reviews = [[word for word in review if word.lower() not in stop_words] for review in tokenized_reviews]\n",
    "\n",
    "# Пример использования CountVectorizer с удалением стоп-слов\n",
    "vectorizer = CountVectorizer(stop_words='english')\n",
    "X = vectorizer.fit_transform(reviews)\n",
    "\n",
    "# Получение списка всех слов (без учета стоп-слов) из CountVectorizer\n",
    "feature_names = vectorizer.get_feature_names_out()\n",
    "\n",
    "# Вывод примера результата\n",
    "print(\"Original Review:\", reviews[0])\n",
    "print(\"Tokenized Review:\", tokenized_reviews[0])\n",
    "print(\"Filtered Review (without stopwords):\", filtered_reviews[0])\n",
    "print(\"Features (words) from CountVectorizer:\", feature_names)\n"
   ],
   "metadata": {
    "collapsed": false,
    "ExecuteTime": {
     "end_time": "2023-12-14T14:45:36.713437400Z",
     "start_time": "2023-12-14T14:45:04.265442600Z"
    }
   },
   "id": "b0c7b3d5675d2ae5"
  },
  {
   "cell_type": "code",
   "execution_count": 101,
   "outputs": [
    {
     "name": "stdout",
     "output_type": "stream",
     "text": [
      "    acidity    aromas  berry     black    cherry     drink  dry    finish  \\\n",
      "0  0.000000  0.000000    0.0  0.000000  0.358132  0.000000  0.0  0.332754   \n",
      "1  0.000000  0.331825    0.0  0.387255  0.000000  0.385041  0.0  0.324013   \n",
      "2  0.000000  0.000000    0.0  0.000000  0.000000  0.000000  0.0  0.000000   \n",
      "3  0.000000  0.323290    0.0  0.377295  0.339755  0.375138  0.0  0.315680   \n",
      "4  0.401295  0.000000    0.0  0.000000  0.000000  0.447122  0.0  0.000000   \n",
      "\n",
      "    flavors  fresh  ...    palate       red      rich      ripe  shows  soft  \\\n",
      "0  0.000000    0.0  ...  0.369114  0.428951  0.000000  0.000000    0.0   0.0   \n",
      "1  0.230886    0.0  ...  0.359418  0.000000  0.404831  0.374575    0.0   0.0   \n",
      "2  0.709279    0.0  ...  0.000000  0.000000  0.000000  0.000000    0.0   0.0   \n",
      "3  0.224948    0.0  ...  0.000000  0.000000  0.000000  0.000000    0.0   0.0   \n",
      "4  0.000000    0.0  ...  0.000000  0.000000  0.000000  0.000000    0.0   0.0   \n",
      "\n",
      "   spice  sweet   tannins      wine  \n",
      "0    0.0    0.0  0.358266  0.235660  \n",
      "1    0.0    0.0  0.000000  0.000000  \n",
      "2    0.0    0.0  0.000000  0.704927  \n",
      "3    0.0    0.0  0.339882  0.000000  \n",
      "4    0.0    0.0  0.000000  0.799402  \n",
      "\n",
      "[5 rows x 25 columns]\n"
     ]
    }
   ],
   "source": [
    "from sklearn.feature_extraction.text import TfidfVectorizer\n",
    "import pandas as pd\n",
    "\n",
    "# Пример, используя ваш DataFrame df и столбец 'Review'\n",
    "corpus = df['description'].tolist()\n",
    "\n",
    "# Создание экземпляра TfidfVectorizer\n",
    "tfidf_vectorizer = TfidfVectorizer(stop_words='english', max_df=0.85, min_df=0.1, max_features=500)\n",
    "\n",
    "# Преобразование текста в TF-IDF матрицу\n",
    "tfidf_matrix = tfidf_vectorizer.fit_transform(corpus)\n",
    "\n",
    "# Получение списка фич (слов) из TfidfVectorizer\n",
    "feature_names_tfidf = tfidf_vectorizer.get_feature_names_out()\n",
    "\n",
    "# Создание DataFrame для отображения результата\n",
    "tfidf_df = pd.DataFrame(data=tfidf_matrix.toarray(), columns=feature_names_tfidf)\n",
    "\n",
    "# Вывод первых нескольких строк DataFrame с TF-IDF данными\n",
    "print(tfidf_df.head())\n"
   ],
   "metadata": {
    "collapsed": false,
    "ExecuteTime": {
     "end_time": "2023-12-14T14:46:23.670210Z",
     "start_time": "2023-12-14T14:46:19.357513500Z"
    }
   },
   "id": "eacb93a5b13a19e2"
  },
  {
   "cell_type": "code",
   "execution_count": 104,
   "outputs": [
    {
     "name": "stdout",
     "output_type": "stream",
     "text": [
      "Top 10 Positive Coefficients:\n",
      "    Feature  Coefficient\n",
      "17     rich     3.611360\n",
      "3     black     2.731043\n",
      "21    spice     2.250189\n",
      "23  tannins     2.113675\n",
      "24     wine     2.046003\n",
      "18     ripe     2.038080\n",
      "19    shows     1.750969\n",
      "5     drink     1.541988\n",
      "14      oak     1.389059\n",
      "10    fruit     1.186422\n",
      "\n",
      "Top 10 Negative Coefficients:\n",
      "    Feature  Coefficient\n",
      "4    cherry     0.126278\n",
      "16      red     0.124688\n",
      "2     berry     0.106949\n",
      "6       dry    -0.083238\n",
      "1    aromas    -0.271765\n",
      "11     good    -0.291180\n",
      "12     nose    -0.599124\n",
      "22    sweet    -0.765701\n",
      "8   flavors    -0.861996\n",
      "20     soft    -1.230367\n"
     ]
    }
   ],
   "source": [
    "from sklearn.linear_model import LinearRegression\n",
    "from sklearn.model_selection import train_test_split\n",
    "from sklearn.feature_extraction.text import TfidfVectorizer\n",
    "import pandas as pd\n",
    "\n",
    "corpus = df['description'].tolist()\n",
    "\n",
    "# Создание экземпляра TfidfVectorizer\n",
    "tfidf_vectorizer = TfidfVectorizer(stop_words='english', max_df=0.85, min_df=0.1, max_features=500)\n",
    "\n",
    "# Преобразование текста в TF-IDF матрицу\n",
    "tfidf_matrix = tfidf_vectorizer.fit_transform(corpus)\n",
    "\n",
    "X_train, X_test, y_train, y_test = train_test_split(tfidf_matrix, df['points'], test_size=0.2, random_state=42)\n",
    "\n",
    "# Создание и обучение модели (в примере - линейная регрессия)\n",
    "model = LinearRegression()\n",
    "model.fit(X_train, y_train)\n",
    "\n",
    "# Исследование коэффициентов модели\n",
    "coefficients = pd.DataFrame({'Feature': tfidf_vectorizer.get_feature_names_out(), 'Coefficient': model.coef_})\n",
    "coefficients = coefficients.sort_values(by='Coefficient', ascending=False)\n",
    "\n",
    "# Вывод топ-10 положительных и топ-10 отрицательных коэффициентов\n",
    "print(\"Top 10 Positive Coefficients:\")\n",
    "print(coefficients.head(10))\n",
    "\n",
    "print(\"\\nTop 10 Negative Coefficients:\")\n",
    "print(coefficients.tail(10))\n"
   ],
   "metadata": {
    "collapsed": false,
    "ExecuteTime": {
     "end_time": "2023-12-14T14:46:56.420872500Z",
     "start_time": "2023-12-14T14:46:53.375621Z"
    }
   },
   "id": "83374d8cfc8295c9"
  },
  {
   "cell_type": "markdown",
   "source": [
    "<h1>Выводы</h1>\n",
    "\n",
    "<h2>1. Подготовка данных:</h2>\n",
    "   - Я загрузила данные из CSV-файла и провели предварительный анализ, включая информацию о данных и создание бинарной целевой переменной 'target' на основе баллов.\n",
    "\n",
    "<h2>2. Текстовые признаки:</h2>\n",
    "   - Я использовала CountVectorizer и TfidfVectorizer для преобразования текстовых отзывов в числовые признаки, которые можно использовать для обучения модели.\n",
    "   - Произведено исследование признаков, включая вывод списка слов и анализ их распределения.\n",
    "\n",
    "<h2>3. Классификация с использованием логистической регрессии:</h2>\n",
    "   - Я использовали логистическую регрессию для классификации отзывов на положительные ('pos') и отрицательные ('neg').\n",
    "   - Провела кросс-валидацию и оптимизацию параметра регуляризации с использованием GridSearchCV.\n",
    "\n",
    "<h2>4. TF-IDF и регрессия:</h2>\n",
    "   - Я применила TF-IDF преобразование текста и обучили линейную регрессию для предсказания баллов.\n",
    "   - Исследовала коэффициенты модели, что позволяет определить, какие слова сильнее всего влияют на предсказание баллов.\n",
    "\n",
    "<h2>Выводы:</h2>5. \n",
    "   - Применение методов векторизации текста (CountVectorizer, TfidfVectorizer) и машинного обучения позволило мне извлекать информацию из текстовых данных.\n",
    "   - Оптимизация параметров модели и исследование коэффициентов помогло понять вклад каждого признака в предсказание.\n"
   ],
   "metadata": {
    "collapsed": false
   },
   "id": "5de86b0251647e44"
  },
  {
   "cell_type": "code",
   "execution_count": null,
   "outputs": [],
   "source": [],
   "metadata": {
    "collapsed": false
   },
   "id": "e2e4b2280e4040f0"
  }
 ],
 "metadata": {
  "kernelspec": {
   "display_name": "Python 3",
   "language": "python",
   "name": "python3"
  },
  "language_info": {
   "codemirror_mode": {
    "name": "ipython",
    "version": 2
   },
   "file_extension": ".py",
   "mimetype": "text/x-python",
   "name": "python",
   "nbconvert_exporter": "python",
   "pygments_lexer": "ipython2",
   "version": "2.7.6"
  }
 },
 "nbformat": 4,
 "nbformat_minor": 5
}
