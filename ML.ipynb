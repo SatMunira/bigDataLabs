{
 "cells": [
  {
   "cell_type": "code",
   "execution_count": 3,
   "id": "initial_id",
   "metadata": {
    "collapsed": true,
    "ExecuteTime": {
     "end_time": "2024-02-18T08:07:31.356139100Z",
     "start_time": "2024-02-18T08:07:29.383599700Z"
    }
   },
   "outputs": [
    {
     "name": "stdout",
     "output_type": "stream",
     "text": [
      "   label  1x1  1x2  1x3  1x4  1x5  1x6  1x7  1x8  1x9  ...  28x19  28x20  \\\n",
      "0      7    0    0    0    0    0    0    0    0    0  ...      0      0   \n",
      "1      2    0    0    0    0    0    0    0    0    0  ...      0      0   \n",
      "2      1    0    0    0    0    0    0    0    0    0  ...      0      0   \n",
      "3      0    0    0    0    0    0    0    0    0    0  ...      0      0   \n",
      "4      4    0    0    0    0    0    0    0    0    0  ...      0      0   \n",
      "\n",
      "   28x21  28x22  28x23  28x24  28x25  28x26  28x27  28x28  \n",
      "0      0      0      0      0      0      0      0      0  \n",
      "1      0      0      0      0      0      0      0      0  \n",
      "2      0      0      0      0      0      0      0      0  \n",
      "3      0      0      0      0      0      0      0      0  \n",
      "4      0      0      0      0      0      0      0      0  \n",
      "\n",
      "[5 rows x 785 columns]\n",
      "label    0\n",
      "1x1      0\n",
      "1x2      0\n",
      "1x3      0\n",
      "1x4      0\n",
      "        ..\n",
      "28x24    0\n",
      "28x25    0\n",
      "28x26    0\n",
      "28x27    0\n",
      "28x28    0\n",
      "Length: 785, dtype: int64\n",
      "<class 'pandas.core.frame.DataFrame'>\n",
      "RangeIndex: 10000 entries, 0 to 9999\n",
      "Columns: 785 entries, label to 28x28\n",
      "dtypes: int64(785)\n",
      "memory usage: 59.9 MB\n",
      "None\n",
      "              label      1x1      1x2      1x3      1x4      1x5      1x6  \\\n",
      "count  10000.000000  10000.0  10000.0  10000.0  10000.0  10000.0  10000.0   \n",
      "mean       4.443400      0.0      0.0      0.0      0.0      0.0      0.0   \n",
      "std        2.895865      0.0      0.0      0.0      0.0      0.0      0.0   \n",
      "min        0.000000      0.0      0.0      0.0      0.0      0.0      0.0   \n",
      "25%        2.000000      0.0      0.0      0.0      0.0      0.0      0.0   \n",
      "50%        4.000000      0.0      0.0      0.0      0.0      0.0      0.0   \n",
      "75%        7.000000      0.0      0.0      0.0      0.0      0.0      0.0   \n",
      "max        9.000000      0.0      0.0      0.0      0.0      0.0      0.0   \n",
      "\n",
      "           1x7      1x8      1x9  ...         28x19         28x20  \\\n",
      "count  10000.0  10000.0  10000.0  ...  10000.000000  10000.000000   \n",
      "mean       0.0      0.0      0.0  ...      0.179300      0.163600   \n",
      "std        0.0      0.0      0.0  ...      5.674149      5.736072   \n",
      "min        0.0      0.0      0.0  ...      0.000000      0.000000   \n",
      "25%        0.0      0.0      0.0  ...      0.000000      0.000000   \n",
      "50%        0.0      0.0      0.0  ...      0.000000      0.000000   \n",
      "75%        0.0      0.0      0.0  ...      0.000000      0.000000   \n",
      "max        0.0      0.0      0.0  ...    253.000000    253.000000   \n",
      "\n",
      "              28x21       28x22    28x23    28x24    28x25    28x26    28x27  \\\n",
      "count  10000.000000  10000.0000  10000.0  10000.0  10000.0  10000.0  10000.0   \n",
      "mean       0.052600      0.0006      0.0      0.0      0.0      0.0      0.0   \n",
      "std        2.420004      0.0600      0.0      0.0      0.0      0.0      0.0   \n",
      "min        0.000000      0.0000      0.0      0.0      0.0      0.0      0.0   \n",
      "25%        0.000000      0.0000      0.0      0.0      0.0      0.0      0.0   \n",
      "50%        0.000000      0.0000      0.0      0.0      0.0      0.0      0.0   \n",
      "75%        0.000000      0.0000      0.0      0.0      0.0      0.0      0.0   \n",
      "max      156.000000      6.0000      0.0      0.0      0.0      0.0      0.0   \n",
      "\n",
      "         28x28  \n",
      "count  10000.0  \n",
      "mean       0.0  \n",
      "std        0.0  \n",
      "min        0.0  \n",
      "25%        0.0  \n",
      "50%        0.0  \n",
      "75%        0.0  \n",
      "max        0.0  \n",
      "\n",
      "[8 rows x 785 columns]\n"
     ]
    },
    {
     "ename": "ValueError",
     "evalue": "No objects to concatenate",
     "output_type": "error",
     "traceback": [
      "\u001B[1;31m---------------------------------------------------------------------------\u001B[0m",
      "\u001B[1;31mValueError\u001B[0m                                Traceback (most recent call last)",
      "Cell \u001B[1;32mIn[3], line 19\u001B[0m\n\u001B[0;32m     16\u001B[0m \u001B[38;5;28mprint\u001B[39m(data\u001B[38;5;241m.\u001B[39mdescribe())\n\u001B[0;32m     18\u001B[0m \u001B[38;5;66;03m# Получим описательные статистики для категориальных столбцов\u001B[39;00m\n\u001B[1;32m---> 19\u001B[0m \u001B[38;5;28mprint\u001B[39m(\u001B[43mdata\u001B[49m\u001B[38;5;241;43m.\u001B[39;49m\u001B[43mdescribe\u001B[49m\u001B[43m(\u001B[49m\u001B[43minclude\u001B[49m\u001B[38;5;241;43m=\u001B[39;49m\u001B[38;5;124;43m'\u001B[39;49m\u001B[38;5;124;43mobject\u001B[39;49m\u001B[38;5;124;43m'\u001B[39;49m\u001B[43m)\u001B[49m)\n",
      "File \u001B[1;32m~\\PycharmProjects\\bigDataLabs\\venv\\Lib\\site-packages\\pandas\\core\\generic.py:11540\u001B[0m, in \u001B[0;36mNDFrame.describe\u001B[1;34m(self, percentiles, include, exclude)\u001B[0m\n\u001B[0;32m  11298\u001B[0m \u001B[38;5;129m@final\u001B[39m\n\u001B[0;32m  11299\u001B[0m \u001B[38;5;28;01mdef\u001B[39;00m \u001B[38;5;21mdescribe\u001B[39m(\n\u001B[0;32m  11300\u001B[0m     \u001B[38;5;28mself\u001B[39m,\n\u001B[1;32m   (...)\u001B[0m\n\u001B[0;32m  11303\u001B[0m     exclude\u001B[38;5;241m=\u001B[39m\u001B[38;5;28;01mNone\u001B[39;00m,\n\u001B[0;32m  11304\u001B[0m ) \u001B[38;5;241m-\u001B[39m\u001B[38;5;241m>\u001B[39m Self:\n\u001B[0;32m  11305\u001B[0m \u001B[38;5;250m    \u001B[39m\u001B[38;5;124;03m\"\"\"\u001B[39;00m\n\u001B[0;32m  11306\u001B[0m \u001B[38;5;124;03m    Generate descriptive statistics.\u001B[39;00m\n\u001B[0;32m  11307\u001B[0m \n\u001B[1;32m   (...)\u001B[0m\n\u001B[0;32m  11538\u001B[0m \u001B[38;5;124;03m    max            NaN      3.0\u001B[39;00m\n\u001B[0;32m  11539\u001B[0m \u001B[38;5;124;03m    \"\"\"\u001B[39;00m\n\u001B[1;32m> 11540\u001B[0m     \u001B[38;5;28;01mreturn\u001B[39;00m \u001B[43mdescribe_ndframe\u001B[49m\u001B[43m(\u001B[49m\n\u001B[0;32m  11541\u001B[0m \u001B[43m        \u001B[49m\u001B[43mobj\u001B[49m\u001B[38;5;241;43m=\u001B[39;49m\u001B[38;5;28;43mself\u001B[39;49m\u001B[43m,\u001B[49m\n\u001B[0;32m  11542\u001B[0m \u001B[43m        \u001B[49m\u001B[43minclude\u001B[49m\u001B[38;5;241;43m=\u001B[39;49m\u001B[43minclude\u001B[49m\u001B[43m,\u001B[49m\n\u001B[0;32m  11543\u001B[0m \u001B[43m        \u001B[49m\u001B[43mexclude\u001B[49m\u001B[38;5;241;43m=\u001B[39;49m\u001B[43mexclude\u001B[49m\u001B[43m,\u001B[49m\n\u001B[0;32m  11544\u001B[0m \u001B[43m        \u001B[49m\u001B[43mpercentiles\u001B[49m\u001B[38;5;241;43m=\u001B[39;49m\u001B[43mpercentiles\u001B[49m\u001B[43m,\u001B[49m\n\u001B[0;32m  11545\u001B[0m \u001B[43m    \u001B[49m\u001B[43m)\u001B[49m\u001B[38;5;241m.\u001B[39m__finalize__(\u001B[38;5;28mself\u001B[39m, method\u001B[38;5;241m=\u001B[39m\u001B[38;5;124m\"\u001B[39m\u001B[38;5;124mdescribe\u001B[39m\u001B[38;5;124m\"\u001B[39m)\n",
      "File \u001B[1;32m~\\PycharmProjects\\bigDataLabs\\venv\\Lib\\site-packages\\pandas\\core\\methods\\describe.py:97\u001B[0m, in \u001B[0;36mdescribe_ndframe\u001B[1;34m(obj, include, exclude, percentiles)\u001B[0m\n\u001B[0;32m     90\u001B[0m \u001B[38;5;28;01melse\u001B[39;00m:\n\u001B[0;32m     91\u001B[0m     describer \u001B[38;5;241m=\u001B[39m DataFrameDescriber(\n\u001B[0;32m     92\u001B[0m         obj\u001B[38;5;241m=\u001B[39mcast(\u001B[38;5;124m\"\u001B[39m\u001B[38;5;124mDataFrame\u001B[39m\u001B[38;5;124m\"\u001B[39m, obj),\n\u001B[0;32m     93\u001B[0m         include\u001B[38;5;241m=\u001B[39minclude,\n\u001B[0;32m     94\u001B[0m         exclude\u001B[38;5;241m=\u001B[39mexclude,\n\u001B[0;32m     95\u001B[0m     )\n\u001B[1;32m---> 97\u001B[0m result \u001B[38;5;241m=\u001B[39m \u001B[43mdescriber\u001B[49m\u001B[38;5;241;43m.\u001B[39;49m\u001B[43mdescribe\u001B[49m\u001B[43m(\u001B[49m\u001B[43mpercentiles\u001B[49m\u001B[38;5;241;43m=\u001B[39;49m\u001B[43mpercentiles\u001B[49m\u001B[43m)\u001B[49m\n\u001B[0;32m     98\u001B[0m \u001B[38;5;28;01mreturn\u001B[39;00m cast(NDFrameT, result)\n",
      "File \u001B[1;32m~\\PycharmProjects\\bigDataLabs\\venv\\Lib\\site-packages\\pandas\\core\\methods\\describe.py:173\u001B[0m, in \u001B[0;36mDataFrameDescriber.describe\u001B[1;34m(self, percentiles)\u001B[0m\n\u001B[0;32m    170\u001B[0m     ldesc\u001B[38;5;241m.\u001B[39mappend(describe_func(series, percentiles))\n\u001B[0;32m    172\u001B[0m col_names \u001B[38;5;241m=\u001B[39m reorder_columns(ldesc)\n\u001B[1;32m--> 173\u001B[0m d \u001B[38;5;241m=\u001B[39m \u001B[43mconcat\u001B[49m\u001B[43m(\u001B[49m\n\u001B[0;32m    174\u001B[0m \u001B[43m    \u001B[49m\u001B[43m[\u001B[49m\u001B[43mx\u001B[49m\u001B[38;5;241;43m.\u001B[39;49m\u001B[43mreindex\u001B[49m\u001B[43m(\u001B[49m\u001B[43mcol_names\u001B[49m\u001B[43m,\u001B[49m\u001B[43m \u001B[49m\u001B[43mcopy\u001B[49m\u001B[38;5;241;43m=\u001B[39;49m\u001B[38;5;28;43;01mFalse\u001B[39;49;00m\u001B[43m)\u001B[49m\u001B[43m \u001B[49m\u001B[38;5;28;43;01mfor\u001B[39;49;00m\u001B[43m \u001B[49m\u001B[43mx\u001B[49m\u001B[43m \u001B[49m\u001B[38;5;129;43;01min\u001B[39;49;00m\u001B[43m \u001B[49m\u001B[43mldesc\u001B[49m\u001B[43m]\u001B[49m\u001B[43m,\u001B[49m\n\u001B[0;32m    175\u001B[0m \u001B[43m    \u001B[49m\u001B[43maxis\u001B[49m\u001B[38;5;241;43m=\u001B[39;49m\u001B[38;5;241;43m1\u001B[39;49m\u001B[43m,\u001B[49m\n\u001B[0;32m    176\u001B[0m \u001B[43m    \u001B[49m\u001B[43msort\u001B[49m\u001B[38;5;241;43m=\u001B[39;49m\u001B[38;5;28;43;01mFalse\u001B[39;49;00m\u001B[43m,\u001B[49m\n\u001B[0;32m    177\u001B[0m \u001B[43m\u001B[49m\u001B[43m)\u001B[49m\n\u001B[0;32m    178\u001B[0m d\u001B[38;5;241m.\u001B[39mcolumns \u001B[38;5;241m=\u001B[39m data\u001B[38;5;241m.\u001B[39mcolumns\u001B[38;5;241m.\u001B[39mcopy()\n\u001B[0;32m    179\u001B[0m \u001B[38;5;28;01mreturn\u001B[39;00m d\n",
      "File \u001B[1;32m~\\PycharmProjects\\bigDataLabs\\venv\\Lib\\site-packages\\pandas\\core\\reshape\\concat.py:380\u001B[0m, in \u001B[0;36mconcat\u001B[1;34m(objs, axis, join, ignore_index, keys, levels, names, verify_integrity, sort, copy)\u001B[0m\n\u001B[0;32m    377\u001B[0m \u001B[38;5;28;01melif\u001B[39;00m copy \u001B[38;5;129;01mand\u001B[39;00m using_copy_on_write():\n\u001B[0;32m    378\u001B[0m     copy \u001B[38;5;241m=\u001B[39m \u001B[38;5;28;01mFalse\u001B[39;00m\n\u001B[1;32m--> 380\u001B[0m op \u001B[38;5;241m=\u001B[39m \u001B[43m_Concatenator\u001B[49m\u001B[43m(\u001B[49m\n\u001B[0;32m    381\u001B[0m \u001B[43m    \u001B[49m\u001B[43mobjs\u001B[49m\u001B[43m,\u001B[49m\n\u001B[0;32m    382\u001B[0m \u001B[43m    \u001B[49m\u001B[43maxis\u001B[49m\u001B[38;5;241;43m=\u001B[39;49m\u001B[43maxis\u001B[49m\u001B[43m,\u001B[49m\n\u001B[0;32m    383\u001B[0m \u001B[43m    \u001B[49m\u001B[43mignore_index\u001B[49m\u001B[38;5;241;43m=\u001B[39;49m\u001B[43mignore_index\u001B[49m\u001B[43m,\u001B[49m\n\u001B[0;32m    384\u001B[0m \u001B[43m    \u001B[49m\u001B[43mjoin\u001B[49m\u001B[38;5;241;43m=\u001B[39;49m\u001B[43mjoin\u001B[49m\u001B[43m,\u001B[49m\n\u001B[0;32m    385\u001B[0m \u001B[43m    \u001B[49m\u001B[43mkeys\u001B[49m\u001B[38;5;241;43m=\u001B[39;49m\u001B[43mkeys\u001B[49m\u001B[43m,\u001B[49m\n\u001B[0;32m    386\u001B[0m \u001B[43m    \u001B[49m\u001B[43mlevels\u001B[49m\u001B[38;5;241;43m=\u001B[39;49m\u001B[43mlevels\u001B[49m\u001B[43m,\u001B[49m\n\u001B[0;32m    387\u001B[0m \u001B[43m    \u001B[49m\u001B[43mnames\u001B[49m\u001B[38;5;241;43m=\u001B[39;49m\u001B[43mnames\u001B[49m\u001B[43m,\u001B[49m\n\u001B[0;32m    388\u001B[0m \u001B[43m    \u001B[49m\u001B[43mverify_integrity\u001B[49m\u001B[38;5;241;43m=\u001B[39;49m\u001B[43mverify_integrity\u001B[49m\u001B[43m,\u001B[49m\n\u001B[0;32m    389\u001B[0m \u001B[43m    \u001B[49m\u001B[43mcopy\u001B[49m\u001B[38;5;241;43m=\u001B[39;49m\u001B[43mcopy\u001B[49m\u001B[43m,\u001B[49m\n\u001B[0;32m    390\u001B[0m \u001B[43m    \u001B[49m\u001B[43msort\u001B[49m\u001B[38;5;241;43m=\u001B[39;49m\u001B[43msort\u001B[49m\u001B[43m,\u001B[49m\n\u001B[0;32m    391\u001B[0m \u001B[43m\u001B[49m\u001B[43m)\u001B[49m\n\u001B[0;32m    393\u001B[0m \u001B[38;5;28;01mreturn\u001B[39;00m op\u001B[38;5;241m.\u001B[39mget_result()\n",
      "File \u001B[1;32m~\\PycharmProjects\\bigDataLabs\\venv\\Lib\\site-packages\\pandas\\core\\reshape\\concat.py:443\u001B[0m, in \u001B[0;36m_Concatenator.__init__\u001B[1;34m(self, objs, axis, join, keys, levels, names, ignore_index, verify_integrity, copy, sort)\u001B[0m\n\u001B[0;32m    440\u001B[0m \u001B[38;5;28mself\u001B[39m\u001B[38;5;241m.\u001B[39mverify_integrity \u001B[38;5;241m=\u001B[39m verify_integrity\n\u001B[0;32m    441\u001B[0m \u001B[38;5;28mself\u001B[39m\u001B[38;5;241m.\u001B[39mcopy \u001B[38;5;241m=\u001B[39m copy\n\u001B[1;32m--> 443\u001B[0m objs, keys \u001B[38;5;241m=\u001B[39m \u001B[38;5;28;43mself\u001B[39;49m\u001B[38;5;241;43m.\u001B[39;49m\u001B[43m_clean_keys_and_objs\u001B[49m\u001B[43m(\u001B[49m\u001B[43mobjs\u001B[49m\u001B[43m,\u001B[49m\u001B[43m \u001B[49m\u001B[43mkeys\u001B[49m\u001B[43m)\u001B[49m\n\u001B[0;32m    445\u001B[0m \u001B[38;5;66;03m# figure out what our result ndim is going to be\u001B[39;00m\n\u001B[0;32m    446\u001B[0m ndims \u001B[38;5;241m=\u001B[39m \u001B[38;5;28mself\u001B[39m\u001B[38;5;241m.\u001B[39m_get_ndims(objs)\n",
      "File \u001B[1;32m~\\PycharmProjects\\bigDataLabs\\venv\\Lib\\site-packages\\pandas\\core\\reshape\\concat.py:505\u001B[0m, in \u001B[0;36m_Concatenator._clean_keys_and_objs\u001B[1;34m(self, objs, keys)\u001B[0m\n\u001B[0;32m    502\u001B[0m     objs_list \u001B[38;5;241m=\u001B[39m \u001B[38;5;28mlist\u001B[39m(objs)\n\u001B[0;32m    504\u001B[0m \u001B[38;5;28;01mif\u001B[39;00m \u001B[38;5;28mlen\u001B[39m(objs_list) \u001B[38;5;241m==\u001B[39m \u001B[38;5;241m0\u001B[39m:\n\u001B[1;32m--> 505\u001B[0m     \u001B[38;5;28;01mraise\u001B[39;00m \u001B[38;5;167;01mValueError\u001B[39;00m(\u001B[38;5;124m\"\u001B[39m\u001B[38;5;124mNo objects to concatenate\u001B[39m\u001B[38;5;124m\"\u001B[39m)\n\u001B[0;32m    507\u001B[0m \u001B[38;5;28;01mif\u001B[39;00m keys \u001B[38;5;129;01mis\u001B[39;00m \u001B[38;5;28;01mNone\u001B[39;00m:\n\u001B[0;32m    508\u001B[0m     objs_list \u001B[38;5;241m=\u001B[39m \u001B[38;5;28mlist\u001B[39m(com\u001B[38;5;241m.\u001B[39mnot_none(\u001B[38;5;241m*\u001B[39mobjs_list))\n",
      "\u001B[1;31mValueError\u001B[0m: No objects to concatenate"
     ]
    }
   ],
   "source": [
    "import pandas as pd\n",
    "\n",
    "# Загрузка данных\n",
    "data = pd.read_csv('dataML.csv')\n",
    "\n",
    "# Выведем несколько первых строк для ознакомления с данными\n",
    "print(data.head())\n",
    "\n",
    "# Проверим наличие пропущенных значений\n",
    "print(data.isnull().sum())\n",
    "\n",
    "# Получим общую информацию о данных\n",
    "print(data.info())\n",
    "\n",
    "# Получим описательные статистики для числовых столбцов\n",
    "print(data.describe())\n",
    "\n",
    "# Получим описательные статистики для категориальных столбцов\n",
    "print(data.describe(include='object'))\n"
   ]
  },
  {
   "cell_type": "code",
   "execution_count": 4,
   "outputs": [
    {
     "name": "stdout",
     "output_type": "stream",
     "text": [
      "       label  1x1  1x2  1x3  1x4  1x5  1x6  1x7  1x8  1x9  ...     28x19  \\\n",
      "label    1.0  NaN  NaN  NaN  NaN  NaN  NaN  NaN  NaN  NaN  ...  0.033682   \n",
      "1x1      NaN  NaN  NaN  NaN  NaN  NaN  NaN  NaN  NaN  NaN  ...       NaN   \n",
      "1x2      NaN  NaN  NaN  NaN  NaN  NaN  NaN  NaN  NaN  NaN  ...       NaN   \n",
      "1x3      NaN  NaN  NaN  NaN  NaN  NaN  NaN  NaN  NaN  NaN  ...       NaN   \n",
      "1x4      NaN  NaN  NaN  NaN  NaN  NaN  NaN  NaN  NaN  NaN  ...       NaN   \n",
      "...      ...  ...  ...  ...  ...  ...  ...  ...  ...  ...  ...       ...   \n",
      "28x24    NaN  NaN  NaN  NaN  NaN  NaN  NaN  NaN  NaN  NaN  ...       NaN   \n",
      "28x25    NaN  NaN  NaN  NaN  NaN  NaN  NaN  NaN  NaN  NaN  ...       NaN   \n",
      "28x26    NaN  NaN  NaN  NaN  NaN  NaN  NaN  NaN  NaN  NaN  ...       NaN   \n",
      "28x27    NaN  NaN  NaN  NaN  NaN  NaN  NaN  NaN  NaN  NaN  ...       NaN   \n",
      "28x28    NaN  NaN  NaN  NaN  NaN  NaN  NaN  NaN  NaN  NaN  ...       NaN   \n",
      "\n",
      "          28x20     28x21     28x22  28x23  28x24  28x25  28x26  28x27  28x28  \n",
      "label  0.027747  0.021902  0.015736    NaN    NaN    NaN    NaN    NaN    NaN  \n",
      "1x1         NaN       NaN       NaN    NaN    NaN    NaN    NaN    NaN    NaN  \n",
      "1x2         NaN       NaN       NaN    NaN    NaN    NaN    NaN    NaN    NaN  \n",
      "1x3         NaN       NaN       NaN    NaN    NaN    NaN    NaN    NaN    NaN  \n",
      "1x4         NaN       NaN       NaN    NaN    NaN    NaN    NaN    NaN    NaN  \n",
      "...         ...       ...       ...    ...    ...    ...    ...    ...    ...  \n",
      "28x24       NaN       NaN       NaN    NaN    NaN    NaN    NaN    NaN    NaN  \n",
      "28x25       NaN       NaN       NaN    NaN    NaN    NaN    NaN    NaN    NaN  \n",
      "28x26       NaN       NaN       NaN    NaN    NaN    NaN    NaN    NaN    NaN  \n",
      "28x27       NaN       NaN       NaN    NaN    NaN    NaN    NaN    NaN    NaN  \n",
      "28x28       NaN       NaN       NaN    NaN    NaN    NaN    NaN    NaN    NaN  \n",
      "\n",
      "[785 rows x 785 columns]\n"
     ]
    }
   ],
   "source": [
    "import pandas as pd\n",
    "\n",
    "# Загрузка данных\n",
    "data = pd.read_csv('dataML.csv')\n",
    "\n",
    "# Вычисление корреляций между пикселями изображения\n",
    "pixel_correlations = data.corr()\n",
    "\n",
    "# Вывод результатов\n",
    "print(pixel_correlations)\n"
   ],
   "metadata": {
    "collapsed": false,
    "ExecuteTime": {
     "end_time": "2024-02-18T08:10:09.844181100Z",
     "start_time": "2024-02-18T08:09:58.731467Z"
    }
   },
   "id": "901af4c1e0c06fa7"
  },
  {
   "cell_type": "code",
   "execution_count": null,
   "outputs": [],
   "source": [],
   "metadata": {
    "collapsed": false
   },
   "id": "adb5a1635c3209e2"
  }
 ],
 "metadata": {
  "kernelspec": {
   "display_name": "Python 3",
   "language": "python",
   "name": "python3"
  },
  "language_info": {
   "codemirror_mode": {
    "name": "ipython",
    "version": 2
   },
   "file_extension": ".py",
   "mimetype": "text/x-python",
   "name": "python",
   "nbconvert_exporter": "python",
   "pygments_lexer": "ipython2",
   "version": "2.7.6"
  }
 },
 "nbformat": 4,
 "nbformat_minor": 5
}
