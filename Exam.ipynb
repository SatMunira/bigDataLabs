{
 "cells": [
  {
   "cell_type": "code",
   "execution_count": 7,
   "outputs": [
    {
     "name": "stdout",
     "output_type": "stream",
     "text": [
      "  Patient_ID  Temperature (Celsius)  Heart Rate (bpm)  White Blood Cell Count  \\\n",
      "0         P1                   39.1                99                   10289   \n",
      "1         P2                   37.3                86                    9665   \n",
      "2         P3                   36.6                61                    5299   \n",
      "3         P4                   38.5                84                    9285   \n",
      "4         P5                   38.2                76                    8351   \n",
      "\n",
      "  Flu Symptoms  \n",
      "0          Yes  \n",
      "1           No  \n",
      "2          Yes  \n",
      "3           No  \n",
      "4          Yes  \n"
     ]
    }
   ],
   "source": [
    "import pandas as pd\n",
    "import random\n",
    "import numpy as np\n",
    " \n",
    "#количество пациентов\n",
    "num_patients = 50\n",
    "\n",
    "patient_ids = [f'P{i+1}' for i in range(num_patients)]\n",
    "\n",
    "#Различные медицинские параметры \n",
    "temperatures = [round(random.uniform(36.5, 39.5), 1) for _ in range(num_patients)]\n",
    "heart_rates = [random.randint(60, 100) for _ in range(num_patients)]\n",
    "white_blood_cell_counts = [random.randint(4000, 11000) for _ in range(num_patients)]\n",
    "flu_symptoms = [random.choice(['Yes', 'No']) for _ in range(num_patients)]\n",
    "\n",
    "data = {\n",
    "    'Patient_ID': patient_ids,\n",
    "    'Temperature (Celsius)': temperatures,\n",
    "    'Heart Rate (bpm)': heart_rates,\n",
    "    'White Blood Cell Count': white_blood_cell_counts,\n",
    "    'Flu Symptoms': flu_symptoms\n",
    "}\n",
    "\n",
    "df = pd.DataFrame(data)\n",
    "\n",
    "print(df.head())"
   ],
   "metadata": {
    "collapsed": false,
    "ExecuteTime": {
     "end_time": "2024-01-27T00:05:06.269426Z",
     "start_time": "2024-01-27T00:05:06.254991Z"
    }
   },
   "id": "82847137a6415109"
  },
  {
   "cell_type": "code",
   "execution_count": 8,
   "outputs": [
    {
     "name": "stdout",
     "output_type": "stream",
     "text": [
      "Размер обучающего набора: (40, 4)\n",
      "Размер тестового набора: (10, 4)\n"
     ]
    }
   ],
   "source": [
    "from sklearn.model_selection import train_test_split\n",
    "\n",
    "#задаем целевую переменную\n",
    "target_variable = 'Flu Symptoms'\n",
    "\n",
    "#разделяем данные на признаки(X) и целевую переменную(y)\n",
    "X = df.drop(target_variable, axis=1)\n",
    "y = df[target_variable]\n",
    "\n",
    "#разделяем данные на обучающий и тестовый наборы\n",
    "X_train, X_test, y_train, y_test = train_test_split(X, y, test_size=0.2, random_state=42)\n",
    "\n",
    "print(\"Размер обучающего набора:\", X_train.shape)\n",
    "print(\"Размер тестового набора:\", X_test.shape)\n"
   ],
   "metadata": {
    "collapsed": false,
    "ExecuteTime": {
     "end_time": "2024-01-27T00:05:24.238251300Z",
     "start_time": "2024-01-27T00:05:24.222296200Z"
    }
   },
   "id": "9c3c1f1b6ccb0fed"
  },
  {
   "cell_type": "code",
   "execution_count": 16,
   "outputs": [
    {
     "name": "stdout",
     "output_type": "stream",
     "text": [
      "Точность модели RandomForestClassifier: 0.70\n",
      "\n",
      "Матрица ошибок:\n",
      "[[6 1]\n",
      " [2 1]]\n",
      "\n",
      "Отчет о классификации:\n",
      "              precision    recall  f1-score   support\n",
      "\n",
      "          No       0.75      0.86      0.80         7\n",
      "         Yes       0.50      0.33      0.40         3\n",
      "\n",
      "    accuracy                           0.70        10\n",
      "   macro avg       0.62      0.60      0.60        10\n",
      "weighted avg       0.68      0.70      0.68        10\n"
     ]
    }
   ],
   "source": [
    "from sklearn.ensemble import RandomForestClassifier\n",
    "from sklearn.metrics import accuracy_score, classification_report, confusion_matrix\n",
    "\n",
    "X_train_no_id = X_train.drop('Patient_ID', axis=1)\n",
    "X_test_no_id = X_test.drop('Patient_ID', axis=1)\n",
    "\n",
    "#создаеи модель RandomForestClassifier\n",
    "rf_model = RandomForestClassifier(random_state=42)\n",
    "\n",
    "#обучаем модель на обучающем наборе\n",
    "rf_model.fit(X_train_no_id, y_train)\n",
    "\n",
    "#предсказываем значения для тестового набора\n",
    "y_pred_rf = rf_model.predict(X_test_no_id)\n",
    "\n",
    "#оцениваем производительност модели RandomForestClassifier\n",
    "accuracy_rf = accuracy_score(y_test, y_pred_rf)\n",
    "conf_matrix_rf = confusion_matrix(y_test, y_pred_rf)\n",
    "classification_rep_rf = classification_report(y_test, y_pred_rf)\n",
    "\n",
    "# Выводим результаты\n",
    "print(f\"Точность модели RandomForestClassifier: {accuracy_rf:.2f}\")\n",
    "print(\"\\nМатрица ошибок:\")\n",
    "print(conf_matrix_rf)\n",
    "print(\"\\nОтчет о классификации:\")\n",
    "print(classification_rep_rf)\n"
   ],
   "metadata": {
    "collapsed": false,
    "ExecuteTime": {
     "end_time": "2024-01-27T00:12:10.563618100Z",
     "start_time": "2024-01-27T00:12:10.496875Z"
    }
   },
   "id": "3ff71c8706b27f44"
  },
  {
   "cell_type": "code",
   "execution_count": 18,
   "outputs": [
    {
     "name": "stdout",
     "output_type": "stream",
     "text": [
      "Лучшие параметры: {'max_depth': None, 'min_samples_leaf': 2, 'min_samples_split': 2, 'n_estimators': 200}\n",
      "Точность модели RandomForestClassifier (с лучшими параметрами): 0.80\n",
      "\n",
      "Матрица ошибок:\n",
      "[[7 0]\n",
      " [2 1]]\n",
      "\n",
      "Отчет о классификации:\n",
      "              precision    recall  f1-score   support\n",
      "\n",
      "          No       0.78      1.00      0.88         7\n",
      "         Yes       1.00      0.33      0.50         3\n",
      "\n",
      "    accuracy                           0.80        10\n",
      "   macro avg       0.89      0.67      0.69        10\n",
      "weighted avg       0.84      0.80      0.76        10\n"
     ]
    }
   ],
   "source": [
    "#улучшаем произволительность данных, т.к 70 это мало для медицинских прогнозов\n",
    "from sklearn.model_selection import GridSearchCV\n",
    "\n",
    "# сетка параметров\n",
    "param_grid = {\n",
    "    'n_estimators': [50, 100, 200],\n",
    "    'max_depth': [None, 10, 20],\n",
    "    'min_samples_split': [2, 5, 10],\n",
    "    'min_samples_leaf': [1, 2, 4]\n",
    "}\n",
    "\n",
    "rf_model = RandomForestClassifier(random_state=42)\n",
    "\n",
    "#Используем Grid Search для настройки гиперпараметров\n",
    "grid_search = GridSearchCV(estimator=rf_model, param_grid=param_grid, cv=3, scoring='accuracy')\n",
    "grid_search.fit(X_train_no_id, y_train)\n",
    "\n",
    "#Получаем лучшие параметры\n",
    "best_params = grid_search.best_params_\n",
    "\n",
    "#Обучаем модель с лучшими параметрами\n",
    "best_rf_model = RandomForestClassifier(random_state=42, **best_params)\n",
    "best_rf_model.fit(X_train_no_id, y_train)\n",
    "\n",
    "#Предсказываем значения для тестового набора\n",
    "y_pred_best_rf = best_rf_model.predict(X_test_no_id)\n",
    "\n",
    "#Оцениваем производительность модели с лучшими параметрами\n",
    "accuracy_best_rf = accuracy_score(y_test, y_pred_best_rf)\n",
    "conf_matrix_best_rf = confusion_matrix(y_test, y_pred_best_rf)\n",
    "classification_rep_best_rf = classification_report(y_test, y_pred_best_rf)\n",
    "\n",
    "#результаты\n",
    "print(f\"Лучшие параметры: {best_params}\")\n",
    "print(f\"Точность модели RandomForestClassifier (с лучшими параметрами): {accuracy_best_rf:.2f}\")\n",
    "print(\"\\nМатрица ошибок:\")\n",
    "print(conf_matrix_best_rf)\n",
    "print(\"\\nОтчет о классификации:\")\n",
    "print(classification_rep_best_rf)\n"
   ],
   "metadata": {
    "collapsed": false,
    "ExecuteTime": {
     "end_time": "2024-01-27T00:14:03.178045500Z",
     "start_time": "2024-01-27T00:13:43.767737700Z"
    }
   },
   "id": "c293ba6f8c478b0f"
  },
  {
   "cell_type": "code",
   "execution_count": null,
   "outputs": [],
   "source": [],
   "metadata": {
    "collapsed": false
   },
   "id": "936871ac14294bcb"
  }
 ],
 "metadata": {
  "kernelspec": {
   "display_name": "Python 3",
   "language": "python",
   "name": "python3"
  },
  "language_info": {
   "codemirror_mode": {
    "name": "ipython",
    "version": 2
   },
   "file_extension": ".py",
   "mimetype": "text/x-python",
   "name": "python",
   "nbconvert_exporter": "python",
   "pygments_lexer": "ipython2",
   "version": "2.7.6"
  }
 },
 "nbformat": 4,
 "nbformat_minor": 5
}
