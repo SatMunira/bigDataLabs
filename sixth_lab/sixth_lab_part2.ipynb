{
 "cells": [
  {
   "cell_type": "code",
   "execution_count": 56,
   "id": "initial_id",
   "metadata": {
    "collapsed": true,
    "ExecuteTime": {
     "end_time": "2023-12-05T10:09:04.497318700Z",
     "start_time": "2023-12-05T10:09:04.488122400Z"
    }
   },
   "outputs": [],
   "source": [
    "import pandas as pd\n",
    "import random\n",
    "\n",
    "# Создаем случайные данные\n",
    "data = {'salary': [random.randint(30000, 100000) for _ in range(1000)],\n",
    "        'city': [],\n",
    "        'age': [random.randint(30, 65) for _ in range(1000)],\n",
    "        'vacation_prefer': [random.choice(['Shopping', 'Beach holiday']) for _ in range(1000)],\n",
    "        'transport_prefer': [random.choice(['auto', 'plane']) for _ in range(1000)],\n",
    "        'target': []}\n",
    "\n",
    "# Генерируем значения для 'city' и 'target' в зависимости от зарплаты с учетом вероятности\n",
    "for salary in data['salary']:\n",
    "    probability = random.uniform(0, 1)\n",
    "    \n",
    "    if salary < 50000:\n",
    "        if probability < 0.6:\n",
    "            data['city'].append('Bishkek')\n",
    "            data['target'].append('Bishkek')\n",
    "        elif probability < 0.9:\n",
    "            data['city'].append('Moscow')\n",
    "            data['target'].append('Moscow')\n",
    "        else:\n",
    "            data['city'].append('London')\n",
    "            data['target'].append('London')\n",
    "    elif 50000 <= salary < 80000:\n",
    "        if probability < 0.3:\n",
    "            data['city'].append('Bishkek')\n",
    "            data['target'].append('Bishkek')\n",
    "        else:\n",
    "            data['city'].append('Moscow')\n",
    "            data['target'].append('Moscow')\n",
    "    else:\n",
    "        if probability < 0.1:\n",
    "            data['city'].append('Moscow')\n",
    "            data['target'].append('Moscow')\n",
    "        else:\n",
    "            data['city'].append('London')\n",
    "            data['target'].append('London')\n",
    "\n",
    "# Создаем DataFrame\n",
    "df = pd.DataFrame(data)\n"
   ]
  },
  {
   "cell_type": "code",
   "execution_count": 57,
   "outputs": [],
   "source": [
    "df_encoded = pd.get_dummies(df, columns=['city', 'vacation_prefer', 'transport_prefer'], drop_first=True)"
   ],
   "metadata": {
    "collapsed": false,
    "ExecuteTime": {
     "end_time": "2023-12-05T10:09:05.215987200Z",
     "start_time": "2023-12-05T10:09:05.209432700Z"
    }
   },
   "id": "95ea39ec158381f9"
  },
  {
   "cell_type": "code",
   "execution_count": 58,
   "outputs": [],
   "source": [
    "from sklearn.model_selection import train_test_split\n",
    "\n",
    "X = df_encoded.drop('target', axis=1)\n",
    "y = df_encoded['target']\n",
    "\n",
    "X_train, X_test, y_train, y_test = train_test_split(X, y, test_size=0.2, random_state=42)\n"
   ],
   "metadata": {
    "collapsed": false,
    "ExecuteTime": {
     "end_time": "2023-12-05T10:09:05.821197700Z",
     "start_time": "2023-12-05T10:09:05.811396100Z"
    }
   },
   "id": "3e53ad263099c48c"
  },
  {
   "cell_type": "code",
   "execution_count": 59,
   "outputs": [],
   "source": [
    "from sklearn.ensemble import RandomForestClassifier\n",
    "\n",
    "model = RandomForestClassifier()\n"
   ],
   "metadata": {
    "collapsed": false,
    "ExecuteTime": {
     "end_time": "2023-12-05T10:09:06.590355800Z",
     "start_time": "2023-12-05T10:09:06.587346100Z"
    }
   },
   "id": "fd981ae221ea0c62"
  },
  {
   "cell_type": "code",
   "execution_count": 60,
   "outputs": [
    {
     "name": "stdout",
     "output_type": "stream",
     "text": [
      "Model Accuracy: 0.54\n"
     ]
    }
   ],
   "source": [
    "model.fit(X_train, y_train)\n",
    "accuracy = model.score(X_test, y_test)\n",
    "print(f'Model Accuracy: {accuracy:.2f}')\n"
   ],
   "metadata": {
    "collapsed": false,
    "ExecuteTime": {
     "end_time": "2023-12-05T10:09:08.228099100Z",
     "start_time": "2023-12-05T10:09:08.073503700Z"
    }
   },
   "id": "67b6397eaba4f2ce"
  },
  {
   "cell_type": "code",
   "execution_count": 62,
   "outputs": [
    {
     "name": "stdout",
     "output_type": "stream",
     "text": [
      "Predicted Target: London\n"
     ]
    }
   ],
   "source": [
    "all_cities = ['city_Bishkek', 'city_London', 'city_Moscow']\n",
    "\n",
    "random_data = {\n",
    "    'salary': [random.randint(30000, 80000)],\n",
    "    'age': [random.randint(30, 65)],\n",
    "    'vacation_prefer_Shopping': [1],\n",
    "    'transport_prefer_plane': [1]\n",
    "}\n",
    "\n",
    "random_data.update({city: [0] for city in all_cities})\n",
    "\n",
    "random_df = pd.DataFrame(random_data)\n",
    "\n",
    "random_df = random_df[X.columns]\n",
    "\n",
    "prediction = model.predict(random_df)\n",
    "print(f'Predicted Target: {prediction[0]}')\n"
   ],
   "metadata": {
    "collapsed": false,
    "ExecuteTime": {
     "end_time": "2023-12-05T10:09:33.758227300Z",
     "start_time": "2023-12-05T10:09:33.747574Z"
    }
   },
   "id": "703021d0e98996fe"
  },
  {
   "cell_type": "code",
   "execution_count": 28,
   "outputs": [
    {
     "name": "stdout",
     "output_type": "stream",
     "text": [
      "Model Accuracy after Scaling: 1.00\n",
      "Predicted Target after Scaling: Bishkek\n",
      "Mean Cross-Validation Score after Scaling: 1.00\n",
      "Best Parameters after Scaling: {'max_depth': None, 'min_samples_split': 2, 'n_estimators': 50}\n",
      "Improved Model Accuracy after Scaling: 1.00\n",
      "Model Training Accuracy: 1.00\n",
      "Model Test Accuracy: 1.00\n"
     ]
    }
   ],
   "source": [
    "from sklearn.ensemble import RandomForestClassifier\n",
    "from sklearn.preprocessing import MinMaxScaler\n",
    "from sklearn.model_selection import cross_val_score, GridSearchCV\n",
    "\n",
    "# Выбираем числовых признаков для стандартизации\n",
    "numeric_features = ['salary', 'age']\n",
    "\n",
    "scaler = MinMaxScaler()\n",
    "\n",
    "# Применение MinMaxScaling к обучающей и тестовой выборкам\n",
    "X_train[numeric_features] = scaler.fit_transform(X_train[numeric_features])\n",
    "X_test[numeric_features] = scaler.transform(X_test[numeric_features])\n",
    "\n",
    "# после стандартизации\n",
    "model.fit(X_train, y_train)\n",
    "accuracy_after_scaling = model.score(X_test, y_test)\n",
    "print(f'Model Accuracy after Scaling: {accuracy_after_scaling:.2f}')\n",
    "\n",
    "# Обновленное предсказание на случайных данных после стандартизации\n",
    "random_df[numeric_features] = scaler.transform(random_df[numeric_features])\n",
    "prediction_after_scaling = model.predict(random_df)\n",
    "print(f'Predicted Target after Scaling: {prediction_after_scaling[0]}')\n",
    "\n",
    "# Обновленная перекрестная проверка\n",
    "cv_scores_after_scaling = cross_val_score(model, X_train, y_train, cv=5)\n",
    "mean_cv_score_after_scaling = cv_scores_after_scaling.mean()\n",
    "\n",
    "param_grid = {'n_estimators': [50, 100, 200],\n",
    "              'max_depth': [None, 10, 20],\n",
    "              'min_samples_split': [2, 5, 10]}\n",
    "\n",
    "# Обновленный решетчатый поиск\n",
    "grid_search_after_scaling = GridSearchCV(model, param_grid, cv=5)\n",
    "grid_search_after_scaling.fit(X_train, y_train)\n",
    "\n",
    "print(f'Mean Cross-Validation Score after Scaling: {mean_cv_score_after_scaling:.2f}')\n",
    "print(f'Best Parameters after Scaling: {grid_search_after_scaling.best_params_}')\n",
    "\n",
    "# Оценка модели с лучшими параметрами после стандартизации\n",
    "best_model_after_scaling = grid_search_after_scaling.best_estimator_\n",
    "best_accuracy_after_scaling = best_model_after_scaling.score(X_test, y_test)\n",
    "print(f'Improved Model Accuracy after Scaling: {best_accuracy_after_scaling:.2f}')\n",
    "\n",
    "\n",
    "# Оценка точности на обучающем наборе\n",
    "train_accuracy = model.score(X_train, y_train)\n",
    "print(f'Model Training Accuracy: {train_accuracy:.2f}')\n",
    "\n",
    "# Оценка точности на тестовом наборе\n",
    "test_accuracy = model.score(X_test, y_test)\n",
    "print(f'Model Test Accuracy: {test_accuracy:.2f}')\n"
   ],
   "metadata": {
    "collapsed": false,
    "ExecuteTime": {
     "end_time": "2023-12-05T09:56:36.826976Z",
     "start_time": "2023-12-05T09:56:23.063704100Z"
    }
   },
   "id": "e91fa33299bb4051"
  },
  {
   "cell_type": "markdown",
   "source": [
    "<h1>Результат</h1>\n",
    "Особо не получилось улучшить модель с помощью масштабирования, решетчатого поиска, перекрестной проверки из-за качества исходных данных"
   ],
   "metadata": {
    "collapsed": false
   },
   "id": "b2705fb9de2bd1ce"
  },
  {
   "cell_type": "code",
   "execution_count": null,
   "outputs": [],
   "source": [],
   "metadata": {
    "collapsed": false
   },
   "id": "452945979bbe6a76"
  }
 ],
 "metadata": {
  "kernelspec": {
   "display_name": "Python 3",
   "language": "python",
   "name": "python3"
  },
  "language_info": {
   "codemirror_mode": {
    "name": "ipython",
    "version": 2
   },
   "file_extension": ".py",
   "mimetype": "text/x-python",
   "name": "python",
   "nbconvert_exporter": "python",
   "pygments_lexer": "ipython2",
   "version": "2.7.6"
  }
 },
 "nbformat": 4,
 "nbformat_minor": 5
}
