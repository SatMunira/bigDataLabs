{
 "cells": [
  {
   "cell_type": "code",
   "execution_count": 110,
   "id": "initial_id",
   "metadata": {
    "collapsed": true,
    "ExecuteTime": {
     "end_time": "2023-12-04T20:47:09.648907500Z",
     "start_time": "2023-12-04T20:47:09.641065900Z"
    }
   },
   "outputs": [],
   "source": [
    "import pandas as pd\n",
    "import random\n",
    "\n",
    "# Создаем случайные данные\n",
    "data = {'salary': [random.randint(30000, 80000) for _ in range(1000)],\n",
    "        'city': [random.choice(['Bishkek', 'London', 'Moscow']) for _ in range(1000)],\n",
    "        'age': [random.randint(30, 65) for _ in range(1000)],\n",
    "        'vacation_prefer': [random.choice(['Shopping', 'Beach holiday']) for _ in range(1000)],\n",
    "        'transport_prefer': [random.choice(['auto', 'plane']) for _ in range(1000)],\n",
    "        'target': [random.choice(['London', 'Moscow']) for _ in range(1000)]}\n",
    "\n",
    "df = pd.DataFrame(data)\n"
   ]
  },
  {
   "cell_type": "code",
   "execution_count": 111,
   "outputs": [],
   "source": [
    "df_encoded = pd.get_dummies(df, columns=['city', 'vacation_prefer', 'transport_prefer'], drop_first=True)"
   ],
   "metadata": {
    "collapsed": false,
    "ExecuteTime": {
     "end_time": "2023-12-04T20:47:10.800282900Z",
     "start_time": "2023-12-04T20:47:10.784619100Z"
    }
   },
   "id": "95ea39ec158381f9"
  },
  {
   "cell_type": "code",
   "execution_count": 112,
   "outputs": [],
   "source": [
    "from sklearn.model_selection import train_test_split\n",
    "\n",
    "X = df_encoded.drop('target', axis=1)\n",
    "y = df_encoded['target']\n",
    "\n",
    "X_train, X_test, y_train, y_test = train_test_split(X, y, test_size=0.2, random_state=42)\n"
   ],
   "metadata": {
    "collapsed": false,
    "ExecuteTime": {
     "end_time": "2023-12-04T20:47:11.013354600Z",
     "start_time": "2023-12-04T20:47:11.008836900Z"
    }
   },
   "id": "3e53ad263099c48c"
  },
  {
   "cell_type": "code",
   "execution_count": 113,
   "outputs": [],
   "source": [
    "from sklearn.ensemble import RandomForestClassifier\n",
    "\n",
    "model = RandomForestClassifier()\n"
   ],
   "metadata": {
    "collapsed": false,
    "ExecuteTime": {
     "end_time": "2023-12-04T20:47:11.209310300Z",
     "start_time": "2023-12-04T20:47:11.209310300Z"
    }
   },
   "id": "fd981ae221ea0c62"
  },
  {
   "cell_type": "code",
   "execution_count": 114,
   "outputs": [
    {
     "name": "stdout",
     "output_type": "stream",
     "text": [
      "Model Accuracy: 0.51\n"
     ]
    }
   ],
   "source": [
    "model.fit(X_train, y_train)\n",
    "accuracy = model.score(X_test, y_test)\n",
    "print(f'Model Accuracy: {accuracy:.2f}')\n"
   ],
   "metadata": {
    "collapsed": false,
    "ExecuteTime": {
     "end_time": "2023-12-04T20:47:11.614307200Z",
     "start_time": "2023-12-04T20:47:11.463389800Z"
    }
   },
   "id": "67b6397eaba4f2ce"
  },
  {
   "cell_type": "code",
   "execution_count": 115,
   "outputs": [
    {
     "name": "stdout",
     "output_type": "stream",
     "text": [
      "Predicted Target: London\n"
     ]
    }
   ],
   "source": [
    "all_cities = ['city_Bishkek', 'city_London', 'city_Moscow']\n",
    "\n",
    "random_data = {\n",
    "    'salary': [random.randint(30000, 80000)],\n",
    "    'age': [random.randint(30, 65)],\n",
    "    'vacation_prefer_Shopping': [1],\n",
    "    'transport_prefer_plane': [1]\n",
    "}\n",
    "\n",
    "random_data.update({city: [0] for city in all_cities})\n",
    "\n",
    "random_df = pd.DataFrame(random_data)\n",
    "\n",
    "random_df = random_df[X.columns]\n",
    "\n",
    "prediction = model.predict(random_df)\n",
    "print(f'Predicted Target: {prediction[0]}')\n"
   ],
   "metadata": {
    "collapsed": false,
    "ExecuteTime": {
     "end_time": "2023-12-04T20:47:11.933641900Z",
     "start_time": "2023-12-04T20:47:11.913614600Z"
    }
   },
   "id": "703021d0e98996fe"
  },
  {
   "cell_type": "code",
   "execution_count": 116,
   "outputs": [
    {
     "name": "stdout",
     "output_type": "stream",
     "text": [
      "Model Accuracy after Scaling: 0.49\n",
      "Predicted Target after Scaling: London\n",
      "Mean Cross-Validation Score after Scaling: 0.51\n",
      "Best Parameters after Scaling: {'max_depth': 10, 'min_samples_split': 2, 'n_estimators': 200}\n",
      "Improved Model Accuracy after Scaling: 0.48\n"
     ]
    }
   ],
   "source": [
    "from sklearn.ensemble import RandomForestClassifier\n",
    "from sklearn.preprocessing import MinMaxScaler\n",
    "from sklearn.model_selection import cross_val_score, GridSearchCV\n",
    "\n",
    "# Выбираем числовых признаков для стандартизации\n",
    "numeric_features = ['salary', 'age']\n",
    "\n",
    "scaler = MinMaxScaler()\n",
    "\n",
    "# Применение MinMaxScaling к обучающей и тестовой выборкам\n",
    "X_train[numeric_features] = scaler.fit_transform(X_train[numeric_features])\n",
    "X_test[numeric_features] = scaler.transform(X_test[numeric_features])\n",
    "\n",
    "# после стандартизации\n",
    "model.fit(X_train, y_train)\n",
    "accuracy_after_scaling = model.score(X_test, y_test)\n",
    "print(f'Model Accuracy after Scaling: {accuracy_after_scaling:.2f}')\n",
    "\n",
    "# Обновленное предсказание на случайных данных после стандартизации\n",
    "random_df[numeric_features] = scaler.transform(random_df[numeric_features])\n",
    "prediction_after_scaling = model.predict(random_df)\n",
    "print(f'Predicted Target after Scaling: {prediction_after_scaling[0]}')\n",
    "\n",
    "# Обновленная перекрестная проверка\n",
    "cv_scores_after_scaling = cross_val_score(model, X_train, y_train, cv=5)\n",
    "mean_cv_score_after_scaling = cv_scores_after_scaling.mean()\n",
    "\n",
    "param_grid = {'n_estimators': [50, 100, 200],\n",
    "              'max_depth': [None, 10, 20],\n",
    "              'min_samples_split': [2, 5, 10]}\n",
    "\n",
    "# Обновленный решетчатый поиск\n",
    "grid_search_after_scaling = GridSearchCV(model, param_grid, cv=5)\n",
    "grid_search_after_scaling.fit(X_train, y_train)\n",
    "\n",
    "print(f'Mean Cross-Validation Score after Scaling: {mean_cv_score_after_scaling:.2f}')\n",
    "print(f'Best Parameters after Scaling: {grid_search_after_scaling.best_params_}')\n",
    "\n",
    "# Оценка модели с лучшими параметрами после стандартизации\n",
    "best_model_after_scaling = grid_search_after_scaling.best_estimator_\n",
    "best_accuracy_after_scaling = best_model_after_scaling.score(X_test, y_test)\n",
    "print(f'Improved Model Accuracy after Scaling: {best_accuracy_after_scaling:.2f}')\n"
   ],
   "metadata": {
    "collapsed": false,
    "ExecuteTime": {
     "end_time": "2023-12-04T20:47:33.406897200Z",
     "start_time": "2023-12-04T20:47:13.293646100Z"
    }
   },
   "id": "e91fa33299bb4051"
  },
  {
   "cell_type": "markdown",
   "source": [
    "<h1>Результат</h1>\n",
    "Особо не получилось улучшить модель с помощью масштабирования, решетчатого поиска, перекрестной проверки из-за качества исходных данных"
   ],
   "metadata": {
    "collapsed": false
   },
   "id": "b2705fb9de2bd1ce"
  },
  {
   "cell_type": "code",
   "execution_count": null,
   "outputs": [],
   "source": [],
   "metadata": {
    "collapsed": false
   },
   "id": "452945979bbe6a76"
  }
 ],
 "metadata": {
  "kernelspec": {
   "display_name": "Python 3",
   "language": "python",
   "name": "python3"
  },
  "language_info": {
   "codemirror_mode": {
    "name": "ipython",
    "version": 2
   },
   "file_extension": ".py",
   "mimetype": "text/x-python",
   "name": "python",
   "nbconvert_exporter": "python",
   "pygments_lexer": "ipython2",
   "version": "2.7.6"
  }
 },
 "nbformat": 4,
 "nbformat_minor": 5
}
