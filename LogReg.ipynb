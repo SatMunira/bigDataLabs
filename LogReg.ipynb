{
 "cells": [
  {
   "cell_type": "code",
   "execution_count": 1,
   "id": "6cda9aff-7803-4946-9929-fbd227867efb",
   "metadata": {
    "ExecuteTime": {
     "end_time": "2024-03-28T06:03:00.016091200Z",
     "start_time": "2024-03-28T06:02:55.388681300Z"
    }
   },
   "outputs": [],
   "source": [
    "from numpy import array, ones, concatenate, zeros\n",
    "from numpy.random import random\n",
    "import numpy as np\n",
    "import pandas as pd\n",
    "from pandas import read_csv, DataFrame\n",
    "from matplotlib import pyplot as plt\n",
    "from sklearn.model_selection import train_test_split\n",
    "from sklearn.metrics import accuracy_score, f1_score, roc_auc_score\n",
    "import matplotlib.pyplot as plt\n",
    "from typing import Dict \n",
    "\n",
    "import logging "
   ]
  },
  {
   "cell_type": "code",
   "execution_count": 2,
   "id": "abc2c415-3fce-4b72-bfdd-b7993a755792",
   "metadata": {
    "ExecuteTime": {
     "end_time": "2024-03-28T06:03:20.345665300Z",
     "start_time": "2024-03-28T06:03:20.308224300Z"
    }
   },
   "outputs": [
    {
     "data": {
      "text/plain": "    User ID  Gender  Age  EstimatedSalary  Purchased\n0  15624510    Male   19            19000          0\n1  15810944    Male   35            20000          0\n2  15668575  Female   26            43000          0\n3  15603246  Female   27            57000          0\n4  15804002    Male   19            76000          0\n5  15728773    Male   27            58000          0\n6  15598044  Female   27            84000          0\n7  15694829  Female   32           150000          1\n8  15600575    Male   25            33000          0\n9  15727311  Female   35            65000          0",
      "text/html": "<div>\n<style scoped>\n    .dataframe tbody tr th:only-of-type {\n        vertical-align: middle;\n    }\n\n    .dataframe tbody tr th {\n        vertical-align: top;\n    }\n\n    .dataframe thead th {\n        text-align: right;\n    }\n</style>\n<table border=\"1\" class=\"dataframe\">\n  <thead>\n    <tr style=\"text-align: right;\">\n      <th></th>\n      <th>User ID</th>\n      <th>Gender</th>\n      <th>Age</th>\n      <th>EstimatedSalary</th>\n      <th>Purchased</th>\n    </tr>\n  </thead>\n  <tbody>\n    <tr>\n      <th>0</th>\n      <td>15624510</td>\n      <td>Male</td>\n      <td>19</td>\n      <td>19000</td>\n      <td>0</td>\n    </tr>\n    <tr>\n      <th>1</th>\n      <td>15810944</td>\n      <td>Male</td>\n      <td>35</td>\n      <td>20000</td>\n      <td>0</td>\n    </tr>\n    <tr>\n      <th>2</th>\n      <td>15668575</td>\n      <td>Female</td>\n      <td>26</td>\n      <td>43000</td>\n      <td>0</td>\n    </tr>\n    <tr>\n      <th>3</th>\n      <td>15603246</td>\n      <td>Female</td>\n      <td>27</td>\n      <td>57000</td>\n      <td>0</td>\n    </tr>\n    <tr>\n      <th>4</th>\n      <td>15804002</td>\n      <td>Male</td>\n      <td>19</td>\n      <td>76000</td>\n      <td>0</td>\n    </tr>\n    <tr>\n      <th>5</th>\n      <td>15728773</td>\n      <td>Male</td>\n      <td>27</td>\n      <td>58000</td>\n      <td>0</td>\n    </tr>\n    <tr>\n      <th>6</th>\n      <td>15598044</td>\n      <td>Female</td>\n      <td>27</td>\n      <td>84000</td>\n      <td>0</td>\n    </tr>\n    <tr>\n      <th>7</th>\n      <td>15694829</td>\n      <td>Female</td>\n      <td>32</td>\n      <td>150000</td>\n      <td>1</td>\n    </tr>\n    <tr>\n      <th>8</th>\n      <td>15600575</td>\n      <td>Male</td>\n      <td>25</td>\n      <td>33000</td>\n      <td>0</td>\n    </tr>\n    <tr>\n      <th>9</th>\n      <td>15727311</td>\n      <td>Female</td>\n      <td>35</td>\n      <td>65000</td>\n      <td>0</td>\n    </tr>\n  </tbody>\n</table>\n</div>"
     },
     "execution_count": 2,
     "metadata": {},
     "output_type": "execute_result"
    }
   ],
   "source": [
    "df= pd.read_csv(\"DT.csv\") \n",
    "\n",
    "df.head(10)"
   ]
  },
  {
   "cell_type": "code",
   "execution_count": 3,
   "id": "78aefba3-df9e-4a74-b77e-cc124d011a8a",
   "metadata": {
    "ExecuteTime": {
     "end_time": "2024-03-28T06:03:25.247703200Z",
     "start_time": "2024-03-28T06:03:25.227816500Z"
    }
   },
   "outputs": [
    {
     "data": {
      "text/plain": "      User ID  Gender  Age  EstimatedSalary  Purchased\n83   15711218    Male   35            88000          0\n65   15718071    Male   24            58000          0\n15   15697686    Male   29            80000          0\n120  15811613  Female   36            75000          0\n393  15635893    Male   60            42000          1",
      "text/html": "<div>\n<style scoped>\n    .dataframe tbody tr th:only-of-type {\n        vertical-align: middle;\n    }\n\n    .dataframe tbody tr th {\n        vertical-align: top;\n    }\n\n    .dataframe thead th {\n        text-align: right;\n    }\n</style>\n<table border=\"1\" class=\"dataframe\">\n  <thead>\n    <tr style=\"text-align: right;\">\n      <th></th>\n      <th>User ID</th>\n      <th>Gender</th>\n      <th>Age</th>\n      <th>EstimatedSalary</th>\n      <th>Purchased</th>\n    </tr>\n  </thead>\n  <tbody>\n    <tr>\n      <th>83</th>\n      <td>15711218</td>\n      <td>Male</td>\n      <td>35</td>\n      <td>88000</td>\n      <td>0</td>\n    </tr>\n    <tr>\n      <th>65</th>\n      <td>15718071</td>\n      <td>Male</td>\n      <td>24</td>\n      <td>58000</td>\n      <td>0</td>\n    </tr>\n    <tr>\n      <th>15</th>\n      <td>15697686</td>\n      <td>Male</td>\n      <td>29</td>\n      <td>80000</td>\n      <td>0</td>\n    </tr>\n    <tr>\n      <th>120</th>\n      <td>15811613</td>\n      <td>Female</td>\n      <td>36</td>\n      <td>75000</td>\n      <td>0</td>\n    </tr>\n    <tr>\n      <th>393</th>\n      <td>15635893</td>\n      <td>Male</td>\n      <td>60</td>\n      <td>42000</td>\n      <td>1</td>\n    </tr>\n  </tbody>\n</table>\n</div>"
     },
     "execution_count": 3,
     "metadata": {},
     "output_type": "execute_result"
    }
   ],
   "source": [
    "df.sample(5)"
   ]
  },
  {
   "cell_type": "code",
   "execution_count": 4,
   "id": "960ee6d3-e065-474a-8590-56e63ad1198d",
   "metadata": {
    "ExecuteTime": {
     "end_time": "2024-03-28T06:03:26.509240500Z",
     "start_time": "2024-03-28T06:03:26.488288100Z"
    }
   },
   "outputs": [],
   "source": [
    "df.drop(columns=[\"User ID\"], inplace=True)"
   ]
  },
  {
   "cell_type": "code",
   "execution_count": 5,
   "id": "fb01d715-f344-401a-9e67-bf8de87d4cd1",
   "metadata": {
    "ExecuteTime": {
     "end_time": "2024-03-28T06:03:27.581684Z",
     "start_time": "2024-03-28T06:03:27.563453700Z"
    }
   },
   "outputs": [],
   "source": [
    "target_col_name = \"Purchased\""
   ]
  },
  {
   "cell_type": "code",
   "execution_count": 6,
   "id": "e96e8c24-3f76-4ea9-92a0-5732daaf3a1c",
   "metadata": {
    "ExecuteTime": {
     "end_time": "2024-03-28T06:03:28.379049300Z",
     "start_time": "2024-03-28T06:03:28.362231700Z"
    }
   },
   "outputs": [],
   "source": [
    "df[\"Gender\"] = (df[\"Gender\"] == \"Male\").astype(int)"
   ]
  },
  {
   "cell_type": "code",
   "execution_count": 7,
   "id": "8ab8b97a-bb74-44c9-96d9-1f6996903919",
   "metadata": {
    "ExecuteTime": {
     "end_time": "2024-03-28T06:03:29.377537100Z",
     "start_time": "2024-03-28T06:03:29.361479400Z"
    }
   },
   "outputs": [
    {
     "data": {
      "text/plain": "   Gender  Age  EstimatedSalary  Purchased\n0       1   19            19000          0\n1       1   35            20000          0\n2       0   26            43000          0\n3       0   27            57000          0\n4       1   19            76000          0",
      "text/html": "<div>\n<style scoped>\n    .dataframe tbody tr th:only-of-type {\n        vertical-align: middle;\n    }\n\n    .dataframe tbody tr th {\n        vertical-align: top;\n    }\n\n    .dataframe thead th {\n        text-align: right;\n    }\n</style>\n<table border=\"1\" class=\"dataframe\">\n  <thead>\n    <tr style=\"text-align: right;\">\n      <th></th>\n      <th>Gender</th>\n      <th>Age</th>\n      <th>EstimatedSalary</th>\n      <th>Purchased</th>\n    </tr>\n  </thead>\n  <tbody>\n    <tr>\n      <th>0</th>\n      <td>1</td>\n      <td>19</td>\n      <td>19000</td>\n      <td>0</td>\n    </tr>\n    <tr>\n      <th>1</th>\n      <td>1</td>\n      <td>35</td>\n      <td>20000</td>\n      <td>0</td>\n    </tr>\n    <tr>\n      <th>2</th>\n      <td>0</td>\n      <td>26</td>\n      <td>43000</td>\n      <td>0</td>\n    </tr>\n    <tr>\n      <th>3</th>\n      <td>0</td>\n      <td>27</td>\n      <td>57000</td>\n      <td>0</td>\n    </tr>\n    <tr>\n      <th>4</th>\n      <td>1</td>\n      <td>19</td>\n      <td>76000</td>\n      <td>0</td>\n    </tr>\n  </tbody>\n</table>\n</div>"
     },
     "execution_count": 7,
     "metadata": {},
     "output_type": "execute_result"
    }
   ],
   "source": [
    "df.head()"
   ]
  },
  {
   "cell_type": "code",
   "execution_count": 8,
   "id": "8abd2cce-2c9d-4727-be3a-fb921c0b9ead",
   "metadata": {
    "ExecuteTime": {
     "end_time": "2024-03-28T06:03:30.578514300Z",
     "start_time": "2024-03-28T06:03:30.562150Z"
    }
   },
   "outputs": [],
   "source": [
    "logger = logging.getLogger(__name__)\n",
    "logger.addHandler(logging.StreamHandler())\n",
    "logger.setLevel(\"INFO\")"
   ]
  },
  {
   "cell_type": "code",
   "execution_count": 9,
   "id": "add84c77-9216-412b-b772-a4f0f70ac11e",
   "metadata": {
    "ExecuteTime": {
     "end_time": "2024-03-28T06:03:32.310073500Z",
     "start_time": "2024-03-28T06:03:32.300236600Z"
    }
   },
   "outputs": [],
   "source": [
    "df[df.isnull()] = 0"
   ]
  },
  {
   "cell_type": "code",
   "execution_count": 10,
   "id": "3c9660d0-01c8-4601-a174-66a15046074c",
   "metadata": {
    "ExecuteTime": {
     "end_time": "2024-03-28T06:03:33.321917Z",
     "start_time": "2024-03-28T06:03:33.306496500Z"
    }
   },
   "outputs": [
    {
     "data": {
      "text/plain": "Purchased\n0    257\n1    143\nName: count, dtype: int64"
     },
     "execution_count": 10,
     "metadata": {},
     "output_type": "execute_result"
    }
   ],
   "source": [
    "df[target_col_name].value_counts() "
   ]
  },
  {
   "cell_type": "code",
   "execution_count": 11,
   "id": "ef980de8-30c2-4c89-ae26-e19db324ab51",
   "metadata": {
    "ExecuteTime": {
     "end_time": "2024-03-28T06:03:34.715338100Z",
     "start_time": "2024-03-28T06:03:34.699448500Z"
    }
   },
   "outputs": [
    {
     "data": {
      "text/plain": "Purchased\n0    0.6425\n1    0.3575\nName: count, dtype: float64"
     },
     "execution_count": 11,
     "metadata": {},
     "output_type": "execute_result"
    }
   ],
   "source": [
    "df[target_col_name].value_counts() / len(df) "
   ]
  },
  {
   "cell_type": "code",
   "execution_count": 14,
   "id": "233bc7bf-eecc-4b31-a3d1-fad0d8e60499",
   "metadata": {
    "ExecuteTime": {
     "end_time": "2024-03-28T06:07:16.321759100Z",
     "start_time": "2024-03-28T06:07:16.214743700Z"
    }
   },
   "outputs": [],
   "source": [
    "from pydantic import BaseModel\n",
    "\n",
    "\n",
    "class TrainParams(BaseModel):\n",
    "    n_iters: int\n",
    "    learning_rate: float\n",
    "    eval_every: int"
   ]
  },
  {
   "cell_type": "code",
   "execution_count": 15,
   "id": "25323c34-3769-4624-8dba-6f54bbf56c46",
   "metadata": {
    "ExecuteTime": {
     "end_time": "2024-03-28T06:07:17.884699700Z",
     "start_time": "2024-03-28T06:07:17.873581900Z"
    }
   },
   "outputs": [],
   "source": [
    "class LogisticRegression:\n",
    "    def __init__(self, n_variables: int):\n",
    "        # Инициализация весов модели случайными значениями\n",
    "        self._weights = random(n_variables + 1)\n",
    "        self._means = None  # Средние значения признаков\n",
    "        self._stds = None   # Стандартные отклонения признаков\n",
    "        \n",
    "    \n",
    "    def fit(self, x: DataFrame, y: array, train_params: TrainParams) -> None:\n",
    "        # Вычисление средних значений и стандартных отклонений признаков\n",
    "        self._means = train_x.mean(axis=0).values\n",
    "        self._stds = train_x.std(axis=0).values\n",
    "\n",
    "        logger.debug(f\"x before preproc {x}\")\n",
    "        # Предобработка данных (масштабирование и добавление bias)\n",
    "        x = self._preproc(x)\n",
    "        logger.debug(f\"x after preproc {x}\")\n",
    "        \n",
    "        # Обучение модели с использованием градиентного спуска\n",
    "        for iter_idx in range(train_params.n_iters):\n",
    "            # Обновление весов модели на каждом шаге\n",
    "            self._weights -= train_params.learning_rate * self.calculate_gradient(x, y)\n",
    "            if iter_idx % train_params.eval_every == 0:\n",
    "                # Предсказание на обучающем наборе и оценка метрик качества\n",
    "                preds = self._predict(x)\n",
    "                val_metrics = self.get_metrics(preds, y)\n",
    "                logger.info(f\"Iter {iter_idx}. Metrics: {val_metrics}\")\n",
    "    \n",
    "    def calculate_gradient(self, x: array, y: array) -> array:\n",
    "        # Вычисление градиента функции потерь по весам модели\n",
    "        n_samples, n_features = x.shape\n",
    "        \n",
    "        pred = self._predict(x)\n",
    "        \n",
    "        gradients = []\n",
    "        for feature_idx in range(n_features):\n",
    "            # Вычисление градиента для каждого признака\n",
    "            grads = (pred - y) * x[:, feature_idx]\n",
    "            res = grads.mean()\n",
    "            gradients.append(res)\n",
    "        return array(gradients)\n",
    "    \n",
    "    \n",
    "    def predict(self, x: DataFrame) -> array:\n",
    "        # Предсказание меток классов на входных данных\n",
    "        x = self._preproc(x)\n",
    "        return self._predict(x)\n",
    "    \n",
    "    def _predict(self, x: array) -> array:\n",
    "        # Вычисление вероятностей принадлежности к классу\n",
    "        logits = (self._weights * x).sum(axis=1)\n",
    "        return self._logistic_function(logits)\n",
    "    \n",
    "    def _logistic_function(self, logits: array) -> array:\n",
    "        # Сигмоидная функция для преобразования в вероятности\n",
    "        return 1 / (1 + np.exp(-logits)) \n",
    "    \n",
    "    def _preproc(self, x: DataFrame) -> array:\n",
    "        # Предобработка данных: масштабирование и добавление bias\n",
    "        values = (x.values - self._means) / self._stds\n",
    "        dummy_for_bias = ones((len(values), 1)) \n",
    "        values = concatenate([values, dummy_for_bias], axis=1)\n",
    "        return values\n",
    "    \n",
    "    def get_metrics(self, preds: array, y: array) -> Dict[str, float]:\n",
    "        # Вычисление метрик качества модели (accuracy, roc_auc, f1)\n",
    "        preds_binary = preds > 0.5\n",
    "        return {\"accuracy\": accuracy_score(y, preds_binary), \n",
    "                \"roc_auc\": roc_auc_score(y, preds), \n",
    "                \"f1\": f1_score(y, preds_binary)}"
   ]
  },
  {
   "cell_type": "code",
   "execution_count": 16,
   "id": "10f1c707-39df-4c5e-9974-4b6c7f0d02ec",
   "metadata": {
    "ExecuteTime": {
     "end_time": "2024-03-28T06:07:19.115101700Z",
     "start_time": "2024-03-28T06:07:19.105166Z"
    }
   },
   "outputs": [],
   "source": [
    "train, val = train_test_split(df)"
   ]
  },
  {
   "cell_type": "code",
   "execution_count": 17,
   "id": "066f6c03-40b3-4ed2-8a26-6bae748c45a9",
   "metadata": {
    "ExecuteTime": {
     "end_time": "2024-03-28T06:07:20.495547300Z",
     "start_time": "2024-03-28T06:07:20.483143500Z"
    }
   },
   "outputs": [],
   "source": [
    "train_params = TrainParams(n_iters=20000, learning_rate=1e-3, eval_every=1000)\n",
    "\n",
    "train_x = train.drop(columns=target_col_name)\n",
    "train_y = train[target_col_name].values\n",
    "\n",
    "val_x = val.drop(columns=target_col_name)\n",
    "val_y = val[target_col_name].values "
   ]
  },
  {
   "cell_type": "code",
   "execution_count": 18,
   "id": "c6e9f508-d2c8-4f47-aed4-fef603b43db2",
   "metadata": {
    "ExecuteTime": {
     "end_time": "2024-03-28T06:07:22.437180600Z",
     "start_time": "2024-03-28T06:07:21.254977700Z"
    }
   },
   "outputs": [
    {
     "name": "stderr",
     "output_type": "stream",
     "text": [
      "Iter 0. Metrics: {'accuracy': 0.5966666666666667, 'roc_auc': 0.7289438667389483, 'f1': 0.5813148788927336}\n",
      "Iter 1000. Metrics: {'accuracy': 0.6933333333333334, 'roc_auc': 0.8461879651076832, 'f1': 0.6515151515151515}\n",
      "Iter 2000. Metrics: {'accuracy': 0.7866666666666666, 'roc_auc': 0.890197624562614, 'f1': 0.7288135593220338}\n",
      "Iter 3000. Metrics: {'accuracy': 0.8, 'roc_auc': 0.9076437829579617, 'f1': 0.7247706422018347}\n",
      "Iter 4000. Metrics: {'accuracy': 0.8166666666666667, 'roc_auc': 0.9162190133556749, 'f1': 0.7342995169082126}\n",
      "Iter 5000. Metrics: {'accuracy': 0.8366666666666667, 'roc_auc': 0.9204573456212114, 'f1': 0.7562189054726368}\n",
      "Iter 6000. Metrics: {'accuracy': 0.84, 'roc_auc': 0.921640136020896, 'f1': 0.7600000000000001}\n",
      "Iter 7000. Metrics: {'accuracy': 0.8466666666666667, 'roc_auc': 0.9229707752205412, 'f1': 0.7628865979381445}\n",
      "Iter 8000. Metrics: {'accuracy': 0.85, 'roc_auc': 0.9238085850869844, 'f1': 0.766839378238342}\n",
      "Iter 9000. Metrics: {'accuracy': 0.85, 'roc_auc': 0.9248928096200285, 'f1': 0.7643979057591622}\n",
      "Iter 10000. Metrics: {'accuracy': 0.8566666666666667, 'roc_auc': 0.9253856389532304, 'f1': 0.7724867724867726}\n",
      "Iter 11000. Metrics: {'accuracy': 0.8566666666666667, 'roc_auc': 0.92523779015327, 'f1': 0.7724867724867726}\n",
      "Iter 12000. Metrics: {'accuracy': 0.8566666666666667, 'roc_auc': 0.9252870730865901, 'f1': 0.7724867724867726}\n",
      "Iter 13000. Metrics: {'accuracy': 0.86, 'roc_auc': 0.925533487753191, 'f1': 0.776595744680851}\n",
      "Iter 14000. Metrics: {'accuracy': 0.86, 'roc_auc': 0.9252870730865901, 'f1': 0.776595744680851}\n",
      "Iter 15000. Metrics: {'accuracy': 0.8566666666666667, 'roc_auc': 0.9254349218865506, 'f1': 0.7700534759358288}\n",
      "Iter 16000. Metrics: {'accuracy': 0.8566666666666667, 'roc_auc': 0.9251885072199497, 'f1': 0.7700534759358288}\n",
      "Iter 17000. Metrics: {'accuracy': 0.8566666666666667, 'roc_auc': 0.924991375486669, 'f1': 0.7700534759358288}\n",
      "Iter 18000. Metrics: {'accuracy': 0.8566666666666667, 'roc_auc': 0.9250899413533094, 'f1': 0.7700534759358288}\n",
      "Iter 19000. Metrics: {'accuracy': 0.8566666666666667, 'roc_auc': 0.9250899413533094, 'f1': 0.7700534759358288}\n"
     ]
    }
   ],
   "source": [
    "model = LogisticRegression(n_variables=len(train_x.columns))\n",
    "model.fit(train_x, train_y, train_params)"
   ]
  },
  {
   "cell_type": "code",
   "execution_count": 19,
   "id": "b915d22b-950a-4bf1-88bf-2f1649dc2b36",
   "metadata": {
    "ExecuteTime": {
     "end_time": "2024-03-28T06:07:23.816432Z",
     "start_time": "2024-03-28T06:07:23.803906400Z"
    }
   },
   "outputs": [
    {
     "name": "stdout",
     "output_type": "stream",
     "text": [
      "Метрики - {'accuracy': 0.8, 'roc_auc': 0.9329166666666666, 'f1': 0.7142857142857143}\n"
     ]
    }
   ],
   "source": [
    "val_pred = model.predict(val_x) \n",
    "print(f\"Метрики - {model.get_metrics(val_pred, val_y)}\") "
   ]
  },
  {
   "cell_type": "code",
   "execution_count": 20,
   "id": "d2d41e26-20fd-4e91-b185-b9a6756459ab",
   "metadata": {
    "ExecuteTime": {
     "end_time": "2024-03-28T06:07:24.624898100Z",
     "start_time": "2024-03-28T06:07:24.617805600Z"
    }
   },
   "outputs": [
    {
     "data": {
      "text/plain": "Counter({False: 70, True: 30})"
     },
     "execution_count": 20,
     "metadata": {},
     "output_type": "execute_result"
    }
   ],
   "source": [
    "from collections import Counter \n",
    "Counter(val_pred >= 0.5) "
   ]
  },
  {
   "cell_type": "code",
   "execution_count": 21,
   "id": "7c6e1927-5ca7-4d28-9f7d-e43015d288e7",
   "metadata": {
    "ExecuteTime": {
     "end_time": "2024-03-28T06:07:25.868490900Z",
     "start_time": "2024-03-28T06:07:25.669055100Z"
    }
   },
   "outputs": [
    {
     "data": {
      "text/plain": "<matplotlib.collections.PathCollection at 0x2211454c490>"
     },
     "execution_count": 21,
     "metadata": {},
     "output_type": "execute_result"
    },
    {
     "data": {
      "text/plain": "<Figure size 640x480 with 1 Axes>",
      "image/png": "[encoded data removed]"
     },
     "metadata": {},
     "output_type": "display_data"
    }
   ],
   "source": [
    "plt.scatter(val_pred, val_y) "
   ]
  }
 ],
 "metadata": {
  "kernelspec": {
   "display_name": "Python 3 (ipykernel)",
   "language": "python",
   "name": "python3"
  },
  "language_info": {
   "codemirror_mode": {
    "name": "ipython",
    "version": 3
   },
   "file_extension": ".py",
   "mimetype": "text/x-python",
   "name": "python",
   "nbconvert_exporter": "python",
   "pygments_lexer": "ipython3",
   "version": "3.11.5"
  }
 },
 "nbformat": 4,
 "nbformat_minor": 5
}
