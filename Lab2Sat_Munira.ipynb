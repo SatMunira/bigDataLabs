{
 "cells": [
  {
   "cell_type": "markdown",
   "source": [
    "<h1>Laboratory work 2 </h1>\n",
    "<h2>Satanova Munira AIN-2-21</h2>\n",
    "<h3> Using NumPy library commands </h3>"
   ],
   "metadata": {
    "collapsed": false
   },
   "id": "eacc1cf89fe10107"
  },
  {
   "cell_type": "code",
   "execution_count": 6,
   "outputs": [],
   "source": [
    "import numpy as np"
   ],
   "metadata": {
    "collapsed": false,
    "ExecuteTime": {
     "end_time": "2023-10-03T04:37:32.670654500Z",
     "start_time": "2023-10-03T04:37:32.664783300Z"
    }
   },
   "id": "3585711834ff5135"
  },
  {
   "cell_type": "markdown",
   "source": [
    " 1. Create a one-dimensional array my_array that contains, in order, all numbers up to 100 that are divisible by 5"
   ],
   "metadata": {
    "collapsed": false
   },
   "id": "97cd3af5b535d52f"
  },
  {
   "cell_type": "code",
   "execution_count": 37,
   "outputs": [
    {
     "name": "stdout",
     "output_type": "stream",
     "text": [
      "1. my_array: [  5  10  15  20  25  30  35  40  45  50  55  60  65  70  75  80  85  90\n",
      "  95 100]\n"
     ]
    }
   ],
   "source": [
    "my_array = np.arange(5, 101, 5)\n",
    "print(\"1. my_array:\", my_array)"
   ],
   "metadata": {
    "collapsed": false,
    "ExecuteTime": {
     "end_time": "2023-10-03T05:00:52.794867800Z",
     "start_time": "2023-10-03T05:00:52.785957400Z"
    }
   },
   "id": "a39a41afe92907e0"
  },
  {
   "cell_type": "markdown",
   "source": [
    "2. From the resulting array get an array with multiples of 10 numbers"
   ],
   "metadata": {
    "collapsed": false
   },
   "id": "a2530d6d1ea1862a"
  },
  {
   "cell_type": "code",
   "execution_count": 38,
   "outputs": [
    {
     "name": "stdout",
     "output_type": "stream",
     "text": [
      "2. my_array_10: [ 10  20  30  40  50  60  70  80  90 100]\n"
     ]
    }
   ],
   "source": [
    "my_array_10 = my_array[my_array % 10 == 0]\n",
    "print(\"2. my_array_10:\", my_array_10)"
   ],
   "metadata": {
    "collapsed": false,
    "ExecuteTime": {
     "end_time": "2023-10-03T05:00:57.663396700Z",
     "start_time": "2023-10-03T05:00:57.637741500Z"
    }
   },
   "id": "465018dce7cb6d66"
  },
  {
   "cell_type": "markdown",
   "source": [
    "3. Get a two-dimensional array with two columns"
   ],
   "metadata": {
    "collapsed": false
   },
   "id": "a5b5ead68170ed05"
  },
  {
   "cell_type": "code",
   "execution_count": 39,
   "outputs": [
    {
     "name": "stdout",
     "output_type": "stream",
     "text": [
      "3. my_2d_array:\n",
      " [[  5  10]\n",
      " [ 15  20]\n",
      " [ 25  30]\n",
      " [ 35  40]\n",
      " [ 45  50]\n",
      " [ 55  60]\n",
      " [ 65  70]\n",
      " [ 75  80]\n",
      " [ 85  90]\n",
      " [ 95 100]]\n"
     ]
    }
   ],
   "source": [
    "my_2d_array = my_array.reshape(-1, 2)\n",
    "print(\"3. my_2d_array:\\n\", my_2d_array)"
   ],
   "metadata": {
    "collapsed": false,
    "ExecuteTime": {
     "end_time": "2023-10-03T05:01:03.008222100Z",
     "start_time": "2023-10-03T05:01:02.988448Z"
    }
   },
   "id": "d9ea77b872582cf2"
  },
  {
   "cell_type": "markdown",
   "source": [
    "4. Get a set my_second_array in which all elements are smaller than the previous initial set by 5"
   ],
   "metadata": {
    "collapsed": false
   },
   "id": "5d5f2dbddf10ce3"
  },
  {
   "cell_type": "code",
   "execution_count": 40,
   "outputs": [
    {
     "name": "stdout",
     "output_type": "stream",
     "text": [
      "4. my_second_array: [ 0  5 10 15 20 25 30 35 40 45 50 55 60 65 70 75 80 85 90 95]\n"
     ]
    }
   ],
   "source": [
    "my_second_array = my_array - 5\n",
    "print(\"4. my_second_array:\", my_second_array)"
   ],
   "metadata": {
    "collapsed": false,
    "ExecuteTime": {
     "end_time": "2023-10-03T05:01:10.929028200Z",
     "start_time": "2023-10-03T05:01:10.914199Z"
    }
   },
   "id": "526295859faa646"
  },
  {
   "cell_type": "markdown",
   "source": [
    "    5. Connect the arrays obtained in steps 3 and 4 horizontally. Use .T to transpose the matrix."
   ],
   "metadata": {
    "collapsed": false
   },
   "id": "e53db07e33b1a831"
  },
  {
   "cell_type": "code",
   "execution_count": 51,
   "outputs": [
    {
     "name": "stdout",
     "output_type": "stream",
     "text": [
      "5. combined_array:\n",
      " [[ 10   0  25  35  45  55  65  75  85  95]\n",
      " [ 20  10  30  40  50  60  70  80  90 100]\n",
      " [  0  10  20  30  40  50  60  70  80  90]\n",
      " [  5  15  25  35  45  55  65  75  85  95]]\n"
     ]
    }
   ],
   "source": [
    "# Combine the arrays horizontally\n",
    "combined_array = np.hstack((my_2d_array, my_second_array.reshape(-1, 2)))\n",
    "\n",
    "# Transpose the matrix\n",
    "combined_array = combined_array.T\n",
    "\n",
    "print(\"5. combined_array:\\n\", combined_array)"
   ],
   "metadata": {
    "collapsed": false,
    "ExecuteTime": {
     "end_time": "2023-10-03T05:22:36.482103900Z",
     "start_time": "2023-10-03T05:22:36.449640600Z"
    }
   },
   "id": "8368778a0d4eb1cb"
  },
  {
   "cell_type": "markdown",
   "source": [
    "6. Split row 2 and row 3 into the top 4 rows of my_array. Use .T to transpose the matrix"
   ],
   "metadata": {
    "collapsed": false
   },
   "id": "9d300bff64c8ca1e"
  },
  {
   "cell_type": "code",
   "execution_count": 46,
   "outputs": [
    {
     "name": "stdout",
     "output_type": "stream",
     "text": [
      "[ 10  20   0  10  25  30  35  40  45  50  55  60  65  70  75  80  85  90\n",
      "  95 100]\n"
     ]
    }
   ],
   "source": [
    "# Split row 2 and row 3 into the top 4 elements of my_array\n",
    "my_array[0:2] = combined_array[1, :2]  # Split row 2\n",
    "my_array[2:4] = combined_array[2, :2]  # Split row 3\n",
    "\n",
    "print(my_array)"
   ],
   "metadata": {
    "collapsed": false,
    "ExecuteTime": {
     "end_time": "2023-10-03T05:11:39.980355700Z",
     "start_time": "2023-10-03T05:11:39.942280900Z"
    }
   },
   "id": "2870900cf80b292c"
  },
  {
   "cell_type": "markdown",
   "source": [
    "    7. Leave only those values that have not changed after division"
   ],
   "metadata": {
    "collapsed": false
   },
   "id": "3371fab91f1a5084"
  },
  {
   "cell_type": "code",
   "execution_count": 60,
   "outputs": [
    {
     "name": "stdout",
     "output_type": "stream",
     "text": [
      "7. filtered_array:\n",
      " []\n"
     ]
    }
   ],
   "source": [
    "unchanged_values = combined_array[:, 0] == combined_array[:, 1]\n",
    "filtered_array = combined_array[unchanged_values]\n",
    "print(\"7. filtered_array:\\n\", filtered_array)"
   ],
   "metadata": {
    "collapsed": false,
    "ExecuteTime": {
     "end_time": "2023-10-03T05:30:41.139426300Z",
     "start_time": "2023-10-03T05:30:41.103605500Z"
    }
   },
   "id": "f2d8fa8536ecab0e"
  },
  {
   "cell_type": "markdown",
   "source": [
    "8. Get a three-line two-dimensional array again and swap the first and third lines"
   ],
   "metadata": {
    "collapsed": false
   },
   "id": "cae310fa46efc794"
  },
  {
   "cell_type": "code",
   "execution_count": 62,
   "outputs": [
    {
     "name": "stdout",
     "output_type": "stream",
     "text": [
      "8. final_array:\n",
      " []\n"
     ]
    }
   ],
   "source": [
    "final_array = filtered_array.reshape(3, -1)\n",
    "final_array[[0, 2]] = final_array[[2, 0]]\n",
    "print(\"8. final_array:\\n\", final_array)"
   ],
   "metadata": {
    "collapsed": false,
    "ExecuteTime": {
     "end_time": "2023-10-03T05:30:57.808633500Z",
     "start_time": "2023-10-03T05:30:57.803622300Z"
    }
   },
   "id": "11936fc660147ba3"
  },
  {
   "cell_type": "markdown",
   "source": [
    "9. Obtain the mean, median and standard deviation for each row"
   ],
   "metadata": {
    "collapsed": false
   },
   "id": "4fc9a1d05e1b00b4"
  },
  {
   "cell_type": "code",
   "execution_count": 63,
   "outputs": [
    {
     "name": "stderr",
     "output_type": "stream",
     "text": [
      "C:\\Users\\Asus\\PycharmProjects\\bigDataLabs\\venv\\Lib\\site-packages\\numpy\\core\\fromnumeric.py:3504: RuntimeWarning: Mean of empty slice.\n",
      "  return _methods._mean(a, axis=axis, dtype=dtype,\n",
      "C:\\Users\\Asus\\PycharmProjects\\bigDataLabs\\venv\\Lib\\site-packages\\numpy\\core\\_methods.py:121: RuntimeWarning: invalid value encountered in divide\n",
      "  ret = um.true_divide(\n",
      "C:\\Users\\Asus\\PycharmProjects\\bigDataLabs\\venv\\Lib\\site-packages\\numpy\\core\\_methods.py:206: RuntimeWarning: Degrees of freedom <= 0 for slice\n",
      "  ret = _var(a, axis=axis, dtype=dtype, out=out, ddof=ddof,\n",
      "C:\\Users\\Asus\\PycharmProjects\\bigDataLabs\\venv\\Lib\\site-packages\\numpy\\core\\_methods.py:163: RuntimeWarning: invalid value encountered in divide\n",
      "  arrmean = um.true_divide(arrmean, div, out=arrmean,\n",
      "C:\\Users\\Asus\\PycharmProjects\\bigDataLabs\\venv\\Lib\\site-packages\\numpy\\core\\_methods.py:195: RuntimeWarning: invalid value encountered in divide\n",
      "  ret = um.true_divide(\n"
     ]
    }
   ],
   "source": [
    "mean_values = np.mean(final_array, axis=1)\n",
    "median_values = np.median(final_array, axis=1)\n",
    "std_deviation_values = np.std(final_array, axis=1)\n"
   ],
   "metadata": {
    "collapsed": false,
    "ExecuteTime": {
     "end_time": "2023-10-03T05:31:13.116898600Z",
     "start_time": "2023-10-03T05:31:13.091903800Z"
    }
   },
   "id": "1e7c7567ba33f93a"
  },
  {
   "cell_type": "markdown",
   "source": [
    "10. Normalize to the maximum value along the rows"
   ],
   "metadata": {
    "collapsed": false
   },
   "id": "617f00d38040a83"
  },
  {
   "cell_type": "code",
   "execution_count": 27,
   "outputs": [
    {
     "name": "stdout",
     "output_type": "stream",
     "text": [
      "[[0.33333333 0.66666667 1.        ]\n",
      " [0.66666667 0.83333333 1.        ]\n",
      " [0.77777778 0.88888889 1.        ]]\n"
     ]
    }
   ],
   "source": [
    "import numpy as np\n",
    "\n",
    "array = np.array([[1, 2, 3],\n",
    "                  [4, 5, 6],\n",
    "                  [7, 8, 9]])\n",
    "\n",
    "# Нормализация на максимальное значение вдоль строк\n",
    "normalized_array = array / array.max(axis=1, keepdims=True)\n",
    "\n",
    "print(normalized_array)\n"
   ],
   "metadata": {
    "collapsed": false,
    "ExecuteTime": {
     "end_time": "2023-10-03T04:50:19.179178900Z",
     "start_time": "2023-10-03T04:50:19.173740300Z"
    }
   },
   "id": "ab153c5c2af5a150"
  },
  {
   "cell_type": "markdown",
   "source": [
    "Results output"
   ],
   "metadata": {
    "collapsed": false
   },
   "id": "31079d65fa247b52"
  },
  {
   "cell_type": "markdown",
   "source": [
    "<h3>Using pandas library commands</h3>"
   ],
   "metadata": {
    "collapsed": false
   },
   "id": "dece58d0a541bc35"
  },
  {
   "cell_type": "code",
   "execution_count": 2,
   "outputs": [],
   "source": [
    "import pandas as pd"
   ],
   "metadata": {
    "collapsed": false,
    "ExecuteTime": {
     "end_time": "2023-10-03T04:36:51.625528800Z",
     "start_time": "2023-10-03T04:36:16.679188200Z"
    }
   },
   "id": "5519f84806bd8930"
  },
  {
   "cell_type": "markdown",
   "source": [
    "Import the data from the file \"Global Population Trends(2016-2022).csv\":"
   ],
   "metadata": {
    "collapsed": false
   },
   "id": "5c2c8aaa5903890b"
  },
  {
   "cell_type": "code",
   "execution_count": 3,
   "outputs": [],
   "source": [
    "# Replace 'path_to_file' with the actual path to the CSV file\n",
    "df = pd.read_csv('Global Population Trends(2016-2022).csv')"
   ],
   "metadata": {
    "collapsed": false,
    "ExecuteTime": {
     "end_time": "2023-10-03T04:37:02.097440200Z",
     "start_time": "2023-10-03T04:37:02.061977100Z"
    }
   },
   "id": "e4e7619a02878d0d"
  },
  {
   "cell_type": "markdown",
   "source": [
    "Read the first few entries of the table:"
   ],
   "metadata": {
    "collapsed": false
   },
   "id": "fcd683b715a1dd12"
  },
  {
   "cell_type": "code",
   "execution_count": 4,
   "outputs": [
    {
     "name": "stdout",
     "output_type": "stream",
     "text": [
      "       Country  Year Total Population Urban Population Rural Population  \\\n",
      "0  Afghanistan  2017                -                -                -   \n",
      "1  Afghanistan  2018       36,686,784        9,353,296       27,333,488   \n",
      "2  Afghanistan  2019       37,769,499        9,727,157       28,042,342   \n",
      "3  Afghanistan  2020       38,972,230       10,142,913       28,829,317   \n",
      "4  Afghanistan  2021       40,099,462       10,551,772       29,547,690   \n",
      "\n",
      "  Population Density Life Expectancy  Birth Rate  Death Rate Fertility Rate  \\\n",
      "0                 55            63.0      37.342       7.027          5.129   \n",
      "1                 56            63.0      36.927       6.981          5.002   \n",
      "2                 58            64.0      36.466       6.791           4.87   \n",
      "3                 60            63.0      36.051       7.113           4.75   \n",
      "4                  -            62.0      35.842       7.344          4.643   \n",
      "\n",
      "  Infant Mortality Rate Growth Rate  \n",
      "0                  49.4           -  \n",
      "1                  47.8         3.0  \n",
      "2                  46.3         3.0  \n",
      "3                  44.8         3.0  \n",
      "4                  43.4         3.0  \n"
     ]
    }
   ],
   "source": [
    "print(df.head())"
   ],
   "metadata": {
    "collapsed": false,
    "ExecuteTime": {
     "end_time": "2023-10-03T04:37:06.606936Z",
     "start_time": "2023-10-03T04:37:06.575095300Z"
    }
   },
   "id": "d2661fcd2b0c681c"
  },
  {
   "cell_type": "markdown",
   "source": [
    "Determine the dimensionality of this frame:"
   ],
   "metadata": {
    "collapsed": false
   },
   "id": "4a7e72ad32a24b09"
  },
  {
   "cell_type": "code",
   "execution_count": 5,
   "outputs": [
    {
     "name": "stdout",
     "output_type": "stream",
     "text": [
      "(1073, 12)\n"
     ]
    }
   ],
   "source": [
    "print(df.shape)"
   ],
   "metadata": {
    "collapsed": false,
    "ExecuteTime": {
     "end_time": "2023-10-03T04:37:15.958137100Z",
     "start_time": "2023-10-03T04:37:15.940445100Z"
    }
   },
   "id": "7fd7971a5f76ff5f"
  },
  {
   "cell_type": "markdown",
   "source": [
    "Print the names of the frame's column headers:"
   ],
   "metadata": {
    "collapsed": false
   },
   "id": "e59129df6964f0f2"
  },
  {
   "cell_type": "code",
   "execution_count": 64,
   "outputs": [
    {
     "name": "stdout",
     "output_type": "stream",
     "text": [
      "Index(['Country', 'Year', 'Total Population', 'Urban Population',\n",
      "       'Rural Population', 'Population Density', 'Life Expectancy',\n",
      "       'Birth Rate', 'Death Rate', 'Fertility Rate', 'Infant Mortality Rate',\n",
      "       'Growth Rate'],\n",
      "      dtype='object')\n"
     ]
    }
   ],
   "source": [
    "print(df.columns)"
   ],
   "metadata": {
    "collapsed": false,
    "ExecuteTime": {
     "end_time": "2023-10-03T05:32:14.514561900Z",
     "start_time": "2023-10-03T05:32:14.509780400Z"
    }
   },
   "id": "67c6d2cc428da2ac"
  },
  {
   "cell_type": "markdown",
   "source": [
    "Get a description of all variables (fields):"
   ],
   "metadata": {
    "collapsed": false
   },
   "id": "615685a8beacfaa4"
  },
  {
   "cell_type": "code",
   "execution_count": 65,
   "outputs": [
    {
     "name": "stdout",
     "output_type": "stream",
     "text": [
      "<class 'pandas.core.frame.DataFrame'>\n",
      "RangeIndex: 1073 entries, 0 to 1072\n",
      "Data columns (total 12 columns):\n",
      " #   Column                 Non-Null Count  Dtype  \n",
      "---  ------                 --------------  -----  \n",
      " 0   Country                1073 non-null   object \n",
      " 1   Year                   1073 non-null   int64  \n",
      " 2   Total Population       1073 non-null   object \n",
      " 3   Urban Population       1073 non-null   object \n",
      " 4   Rural Population       1073 non-null   object \n",
      " 5   Population Density     1073 non-null   object \n",
      " 6   Life Expectancy        1073 non-null   object \n",
      " 7   Birth Rate             1073 non-null   float64\n",
      " 8   Death Rate             1073 non-null   float64\n",
      " 9   Fertility Rate         1073 non-null   object \n",
      " 10  Infant Mortality Rate  1073 non-null   object \n",
      " 11  Growth Rate            1073 non-null   object \n",
      "dtypes: float64(2), int64(1), object(9)\n",
      "memory usage: 100.7+ KB\n",
      "None\n"
     ]
    }
   ],
   "source": [
    "print(df.info())"
   ],
   "metadata": {
    "collapsed": false,
    "ExecuteTime": {
     "end_time": "2023-10-03T05:32:18.289666500Z",
     "start_time": "2023-10-03T05:32:18.270011300Z"
    }
   },
   "id": "9a2f775f1beb503a"
  },
  {
   "cell_type": "markdown",
   "source": [
    "Delete rows that do not contain a value in the Total Population column:"
   ],
   "metadata": {
    "collapsed": false
   },
   "id": "84b62b027c9e455b"
  },
  {
   "cell_type": "code",
   "execution_count": 66,
   "outputs": [],
   "source": [
    "df = df[df['Total Population'] != '-']"
   ],
   "metadata": {
    "collapsed": false,
    "ExecuteTime": {
     "end_time": "2023-10-03T05:32:23.035319800Z",
     "start_time": "2023-10-03T05:32:23.030014300Z"
    }
   },
   "id": "72dd4d60c72c7456"
  },
  {
   "cell_type": "markdown",
   "source": [
    "Obtain descriptive statistics on the variables:"
   ],
   "metadata": {
    "collapsed": false
   },
   "id": "c895fe5c43e49155"
  },
  {
   "cell_type": "code",
   "execution_count": 67,
   "outputs": [
    {
     "name": "stdout",
     "output_type": "stream",
     "text": [
      "              Year  Birth Rate  Death Rate\n",
      "count   864.000000  864.000000  864.000000\n",
      "mean   2019.500000   18.548384    7.889123\n",
      "std       1.118682    9.887518    3.041385\n",
      "min    2018.000000    0.000000    0.000000\n",
      "25%    2018.750000   10.500000    6.116500\n",
      "50%    2019.500000   15.628500    7.453500\n",
      "75%    2020.250000   25.565000    9.385000\n",
      "max    2021.000000   46.127000   21.700000\n"
     ]
    }
   ],
   "source": [
    "print(df.describe())"
   ],
   "metadata": {
    "collapsed": false,
    "ExecuteTime": {
     "end_time": "2023-10-03T05:32:26.728479900Z",
     "start_time": "2023-10-03T05:32:26.709960400Z"
    }
   },
   "id": "79c2751a45440cac"
  },
  {
   "cell_type": "markdown",
   "source": [
    "Sort the data by several criteria. For example, you can sort the data by the column \"Total Population\" in descending order:"
   ],
   "metadata": {
    "collapsed": false
   },
   "id": "74fa0c524319e815"
  },
  {
   "cell_type": "code",
   "execution_count": 68,
   "outputs": [],
   "source": [
    "df = df.sort_values(by='Total Population', ascending=False)"
   ],
   "metadata": {
    "collapsed": false,
    "ExecuteTime": {
     "end_time": "2023-10-03T05:32:30.641473900Z",
     "start_time": "2023-10-03T05:32:30.625699500Z"
    }
   },
   "id": "6f51d7360c572b86"
  },
  {
   "cell_type": "markdown",
   "source": [
    "Output the name of the country that has the maximum population:"
   ],
   "metadata": {
    "collapsed": false
   },
   "id": "8f50f2607631d748"
  },
  {
   "cell_type": "code",
   "execution_count": 70,
   "outputs": [
    {
     "name": "stdout",
     "output_type": "stream",
     "text": [
      "Country with maximum population: Seychelles\n"
     ]
    }
   ],
   "source": [
    "max_population_country = df.loc[df['Total Population'].idxmax()]['Country']\n",
    "print(\"Country with maximum population:\", max_population_country)"
   ],
   "metadata": {
    "collapsed": false,
    "ExecuteTime": {
     "end_time": "2023-10-03T05:32:53.795134500Z",
     "start_time": "2023-10-03T05:32:53.775802300Z"
    }
   },
   "id": "80319e00e02ca540"
  },
  {
   "cell_type": "markdown",
   "source": [
    "Output the name of the country that has the minimum population:"
   ],
   "metadata": {
    "collapsed": false
   },
   "id": "218ffefd71e4d2b4"
  },
  {
   "cell_type": "code",
   "execution_count": 72,
   "outputs": [
    {
     "name": "stdout",
     "output_type": "stream",
     "text": [
      "Country with minimum population: Djibouti\n"
     ]
    }
   ],
   "source": [
    "min_population_country = df.loc[df['Total Population'].idxmin()]['Country']\n",
    "print(\"Country with minimum population:\", min_population_country)"
   ],
   "metadata": {
    "collapsed": false,
    "ExecuteTime": {
     "end_time": "2023-10-03T05:33:03.671943800Z",
     "start_time": "2023-10-03T05:33:03.656397100Z"
    }
   },
   "id": "e5480c2466a25c38"
  },
  {
   "cell_type": "markdown",
   "source": [
    "Export the frame to MS Excel. For example, you can save the frame to the file \"population_data.xlsx\":"
   ],
   "metadata": {
    "collapsed": false
   },
   "id": "196fb86ae03ab5c3"
  },
  {
   "cell_type": "code",
   "execution_count": 76,
   "outputs": [],
   "source": [
    "df.to_excel('Global Population Trends(2016-2022).xlsx', index=False)"
   ],
   "metadata": {
    "collapsed": false,
    "ExecuteTime": {
     "end_time": "2023-10-03T06:00:47.267848800Z",
     "start_time": "2023-10-03T06:00:46.846053700Z"
    }
   },
   "id": "9a1c0680079b38b2"
  },
  {
   "cell_type": "code",
   "execution_count": null,
   "outputs": [],
   "source": [],
   "metadata": {
    "collapsed": false
   },
   "id": "4c764641bba2162a"
  }
 ],
 "metadata": {
  "kernelspec": {
   "display_name": "Python 3",
   "language": "python",
   "name": "python3"
  },
  "language_info": {
   "codemirror_mode": {
    "name": "ipython",
    "version": 2
   },
   "file_extension": ".py",
   "mimetype": "text/x-python",
   "name": "python",
   "nbconvert_exporter": "python",
   "pygments_lexer": "ipython2",
   "version": "2.7.6"
  }
 },
 "nbformat": 4,
 "nbformat_minor": 5
}
