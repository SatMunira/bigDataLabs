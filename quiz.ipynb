{
 "cells": [
  {
   "cell_type": "markdown",
   "id": "ef06ee41-4a75-4ae6-91c0-c1922fc68010",
   "metadata": {},
   "source": [
    "Анализ данных с помощью библиотек pandas, numpy, matplotlib и seaborn"
   ]
  },
  {
   "cell_type": "code",
   "execution_count": null,
   "id": "b5cbb697-d287-4a5f-93c3-43e9d8ffed73",
   "metadata": {},
   "outputs": [],
   "source": [
    "#Импорт необходимых библиотек \n",
    "#Загрузка данных \n",
    "#Используйте основные операции Pandas для исследования датасета \n",
    "#Проверьте пропущенные значения \n"
   ]
  },
  {
   "cell_type": "code",
   "execution_count": null,
   "id": "2bb82c95-b03f-4a54-8145-5d6568c0685b",
   "metadata": {},
   "outputs": [],
   "source": [
    "# Вычислите корреляции между пикселями изображения "
   ]
  },
  {
   "cell_type": "code",
   "execution_count": null,
   "id": "d2e65c1a-fa7e-457f-a140-f18ae46907ec",
   "metadata": {},
   "outputs": [],
   "source": [
    "# ВЫведите одно изображение "
   ]
  },
  {
   "cell_type": "code",
   "execution_count": null,
   "id": "c7c5b2a5-90dd-4670-adff-22a725e9e887",
   "metadata": {},
   "outputs": [],
   "source": [
    "# ВЫведите случайные изображения"
   ]
  },
  {
   "cell_type": "code",
   "execution_count": null,
   "id": "bef61063-d2a6-46c4-9f1a-025f25912c53",
   "metadata": {},
   "outputs": [],
   "source": [
    "# Выведите тепловую карта корреляции "
   ]
  },
  {
   "cell_type": "code",
   "execution_count": null,
   "id": "c6c56eaa-5828-4e7e-a623-3b4f19d14e66",
   "metadata": {},
   "outputs": [],
   "source": [
    "# Дополнительное задание: Сжатие изображений с помощью PCA\n"
   ]
  }
 ],
 "metadata": {
  "kernelspec": {
   "display_name": "Python 3 (ipykernel)",
   "language": "python",
   "name": "python3"
  },
  "language_info": {
   "codemirror_mode": {
    "name": "ipython",
    "version": 3
   },
   "file_extension": ".py",
   "mimetype": "text/x-python",
   "name": "python",
   "nbconvert_exporter": "python",
   "pygments_lexer": "ipython3",
   "version": "3.11.5"
  }
 },
 "nbformat": 4,
 "nbformat_minor": 5
}
